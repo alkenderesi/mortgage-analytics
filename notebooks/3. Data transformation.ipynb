{
 "cells": [
  {
   "cell_type": "markdown",
   "metadata": {},
   "source": [
    "## Package imports"
   ]
  },
  {
   "cell_type": "code",
   "execution_count": 1,
   "metadata": {},
   "outputs": [],
   "source": [
    "import os\n",
    "import numpy as np\n",
    "import pandas as pd\n",
    "import matplotlib.pyplot as plt"
   ]
  },
  {
   "cell_type": "markdown",
   "metadata": {},
   "source": [
    "----\n",
    "## Display settings"
   ]
  },
  {
   "cell_type": "code",
   "execution_count": 2,
   "metadata": {},
   "outputs": [],
   "source": [
    "pd.set_option(\"display.width\", 140)"
   ]
  },
  {
   "cell_type": "markdown",
   "metadata": {},
   "source": [
    "----\n",
    "## Reading in the data"
   ]
  },
  {
   "cell_type": "code",
   "execution_count": 3,
   "metadata": {},
   "outputs": [],
   "source": [
    "dtypes = {\n",
    "    \"MORTGAGE\": \"category\",\n",
    "    \"MORTGAGE_GETTING_AGE\": \"Int64\",\n",
    "    \"AGE\": \"int64\",\n",
    "    \"YEARS_WITH_BANK\": \"int64\",\n",
    "    \"MARITAL_STATUS\": \"category\",\n",
    "    \"EDUCATION\": \"category\",\n",
    "    \"EMPLOYMENT\": \"category\",\n",
    "    \"GENDER\": \"category\",\n",
    "    \"INCOME\": \"float64\",\n",
    "    \"BALANCE\": \"float64\",\n",
    "}\n",
    "\n",
    "data_path = \"../data/processed/clean/Retail data.csv\"\n",
    "\n",
    "df = pd.read_csv(data_path, sep=\";\", dtype=dtypes, parse_dates=[\"ADDRESS_DATE\", \"JOB_DATE\", \"WITH_BANK_DATE\"])"
   ]
  },
  {
   "cell_type": "code",
   "execution_count": 4,
   "metadata": {},
   "outputs": [
    {
     "name": "stdout",
     "output_type": "stream",
     "text": [
      "<class 'pandas.core.frame.DataFrame'>\n",
      "RangeIndex: 23983 entries, 0 to 23982\n",
      "Data columns (total 13 columns):\n",
      " #   Column                Non-Null Count  Dtype         \n",
      "---  ------                --------------  -----         \n",
      " 0   MORTGAGE              23983 non-null  category      \n",
      " 1   MORTGAGE_GETTING_AGE  306 non-null    Int64         \n",
      " 2   AGE                   23983 non-null  int64         \n",
      " 3   YEARS_WITH_BANK       23983 non-null  int64         \n",
      " 4   MARITAL_STATUS        23940 non-null  category      \n",
      " 5   EDUCATION             23983 non-null  category      \n",
      " 6   EMPLOYMENT            23983 non-null  category      \n",
      " 7   GENDER                23983 non-null  category      \n",
      " 8   INCOME                23983 non-null  float64       \n",
      " 9   ADDRESS_DATE          23775 non-null  datetime64[ns]\n",
      " 10  JOB_DATE              18212 non-null  datetime64[ns]\n",
      " 11  WITH_BANK_DATE        23983 non-null  datetime64[ns]\n",
      " 12  BALANCE               23983 non-null  float64       \n",
      "dtypes: Int64(1), category(5), datetime64[ns](3), float64(2), int64(2)\n",
      "memory usage: 1.6 MB\n"
     ]
    }
   ],
   "source": [
    "df.info()"
   ]
  },
  {
   "cell_type": "markdown",
   "metadata": {},
   "source": [
    "----\n",
    "## Estimating when the data was created"
   ]
  },
  {
   "cell_type": "code",
   "execution_count": 5,
   "metadata": {},
   "outputs": [],
   "source": [
    "# Temporary column for possible data creation years\n",
    "df[\"_CREATION_YEAR\"] = df[\"WITH_BANK_DATE\"].dt.year + df[\"YEARS_WITH_BANK\"]"
   ]
  },
  {
   "cell_type": "code",
   "execution_count": 6,
   "metadata": {},
   "outputs": [
    {
     "name": "stdout",
     "output_type": "stream",
     "text": [
      "2017-07-03 00:00:00\n"
     ]
    }
   ],
   "source": [
    "# Temporary value containing the year of the data creation\n",
    "_creation_year: int = df[\"_CREATION_YEAR\"].max()\n",
    "\n",
    "# Temporary date with the month and day values closest to the actual data creation\n",
    "_creation_date = pd.Timestamp(df[df[\"_CREATION_YEAR\"] == _creation_year][\"WITH_BANK_DATE\"].max())\n",
    "\n",
    "# Year and day corrections\n",
    "DATA_CREATION = _creation_date + pd.DateOffset(years=_creation_year - _creation_date.year, days=1)\n",
    "\n",
    "print(DATA_CREATION)"
   ]
  },
  {
   "cell_type": "code",
   "execution_count": 7,
   "metadata": {},
   "outputs": [],
   "source": [
    "# Remove temporary column\n",
    "df.drop(\"_CREATION_YEAR\", axis=1, inplace=True)"
   ]
  },
  {
   "cell_type": "markdown",
   "metadata": {},
   "source": [
    "----\n",
    "## Setting the data to past values for people with mortgages\n",
    "This will ensure that the data represents the life situations when people chose to get mortgages."
   ]
  },
  {
   "cell_type": "markdown",
   "metadata": {},
   "source": [
    "### Creating new column with the mortgage getting year"
   ]
  },
  {
   "cell_type": "code",
   "execution_count": 8,
   "metadata": {},
   "outputs": [],
   "source": [
    "df[\"MORTGAGE_GETTING_YEAR\"] = DATA_CREATION.year - df[\"AGE\"] + df[\"MORTGAGE_GETTING_AGE\"]"
   ]
  },
  {
   "cell_type": "code",
   "execution_count": 9,
   "metadata": {},
   "outputs": [
    {
     "data": {
      "text/plain": [
       "<IntegerArray>\n",
       "[2015, 2016, 2014, 2017, <NA>]\n",
       "Length: 5, dtype: Int64"
      ]
     },
     "execution_count": 9,
     "metadata": {},
     "output_type": "execute_result"
    }
   ],
   "source": [
    "# Unique values of the new column\n",
    "df[\"MORTGAGE_GETTING_YEAR\"].unique()"
   ]
  },
  {
   "cell_type": "code",
   "execution_count": 10,
   "metadata": {},
   "outputs": [
    {
     "data": {
      "text/html": [
       "<div>\n",
       "<style scoped>\n",
       "    .dataframe tbody tr th:only-of-type {\n",
       "        vertical-align: middle;\n",
       "    }\n",
       "\n",
       "    .dataframe tbody tr th {\n",
       "        vertical-align: top;\n",
       "    }\n",
       "\n",
       "    .dataframe thead th {\n",
       "        text-align: right;\n",
       "    }\n",
       "</style>\n",
       "<table border=\"1\" class=\"dataframe\">\n",
       "  <thead>\n",
       "    <tr style=\"text-align: right;\">\n",
       "      <th></th>\n",
       "      <th>MORTGAGE</th>\n",
       "      <th>MORTGAGE_GETTING_AGE</th>\n",
       "      <th>AGE</th>\n",
       "      <th>YEARS_WITH_BANK</th>\n",
       "      <th>MARITAL_STATUS</th>\n",
       "      <th>EDUCATION</th>\n",
       "      <th>EMPLOYMENT</th>\n",
       "      <th>GENDER</th>\n",
       "      <th>INCOME</th>\n",
       "      <th>ADDRESS_DATE</th>\n",
       "      <th>JOB_DATE</th>\n",
       "      <th>WITH_BANK_DATE</th>\n",
       "      <th>BALANCE</th>\n",
       "      <th>MORTGAGE_GETTING_YEAR</th>\n",
       "    </tr>\n",
       "  </thead>\n",
       "  <tbody>\n",
       "    <tr>\n",
       "      <th>0</th>\n",
       "      <td>Y</td>\n",
       "      <td>50</td>\n",
       "      <td>52</td>\n",
       "      <td>13</td>\n",
       "      <td>M</td>\n",
       "      <td>HGH</td>\n",
       "      <td>PVE</td>\n",
       "      <td>M</td>\n",
       "      <td>909.50</td>\n",
       "      <td>1979-04-18</td>\n",
       "      <td>2010-01-01</td>\n",
       "      <td>2004-03-16</td>\n",
       "      <td>7648.35</td>\n",
       "      <td>2015</td>\n",
       "    </tr>\n",
       "    <tr>\n",
       "      <th>1</th>\n",
       "      <td>Y</td>\n",
       "      <td>48</td>\n",
       "      <td>49</td>\n",
       "      <td>11</td>\n",
       "      <td>M</td>\n",
       "      <td>HGH</td>\n",
       "      <td>SFE</td>\n",
       "      <td>M</td>\n",
       "      <td>288.46</td>\n",
       "      <td>1999-12-16</td>\n",
       "      <td>2004-01-20</td>\n",
       "      <td>2005-11-07</td>\n",
       "      <td>30189.90</td>\n",
       "      <td>2016</td>\n",
       "    </tr>\n",
       "    <tr>\n",
       "      <th>2</th>\n",
       "      <td>Y</td>\n",
       "      <td>53</td>\n",
       "      <td>55</td>\n",
       "      <td>14</td>\n",
       "      <td>M</td>\n",
       "      <td>BCR</td>\n",
       "      <td>STE</td>\n",
       "      <td>M</td>\n",
       "      <td>1280.53</td>\n",
       "      <td>2005-06-28</td>\n",
       "      <td>1990-09-01</td>\n",
       "      <td>2003-06-25</td>\n",
       "      <td>50553.17</td>\n",
       "      <td>2015</td>\n",
       "    </tr>\n",
       "    <tr>\n",
       "      <th>3</th>\n",
       "      <td>Y</td>\n",
       "      <td>64</td>\n",
       "      <td>66</td>\n",
       "      <td>10</td>\n",
       "      <td>M</td>\n",
       "      <td>BCR</td>\n",
       "      <td>OTH</td>\n",
       "      <td>F</td>\n",
       "      <td>620.96</td>\n",
       "      <td>2000-12-22</td>\n",
       "      <td>NaT</td>\n",
       "      <td>2006-12-21</td>\n",
       "      <td>15907.28</td>\n",
       "      <td>2015</td>\n",
       "    </tr>\n",
       "    <tr>\n",
       "      <th>4</th>\n",
       "      <td>Y</td>\n",
       "      <td>46</td>\n",
       "      <td>47</td>\n",
       "      <td>9</td>\n",
       "      <td>S</td>\n",
       "      <td>MAS</td>\n",
       "      <td>PVE</td>\n",
       "      <td>F</td>\n",
       "      <td>2239.85</td>\n",
       "      <td>2009-08-01</td>\n",
       "      <td>2013-12-24</td>\n",
       "      <td>2007-08-07</td>\n",
       "      <td>27916.19</td>\n",
       "      <td>2016</td>\n",
       "    </tr>\n",
       "  </tbody>\n",
       "</table>\n",
       "</div>"
      ],
      "text/plain": [
       "  MORTGAGE  MORTGAGE_GETTING_AGE  AGE  YEARS_WITH_BANK MARITAL_STATUS EDUCATION EMPLOYMENT GENDER   INCOME ADDRESS_DATE   JOB_DATE  \\\n",
       "0        Y                    50   52               13              M       HGH        PVE      M   909.50   1979-04-18 2010-01-01   \n",
       "1        Y                    48   49               11              M       HGH        SFE      M   288.46   1999-12-16 2004-01-20   \n",
       "2        Y                    53   55               14              M       BCR        STE      M  1280.53   2005-06-28 1990-09-01   \n",
       "3        Y                    64   66               10              M       BCR        OTH      F   620.96   2000-12-22        NaT   \n",
       "4        Y                    46   47                9              S       MAS        PVE      F  2239.85   2009-08-01 2013-12-24   \n",
       "\n",
       "  WITH_BANK_DATE   BALANCE  MORTGAGE_GETTING_YEAR  \n",
       "0     2004-03-16   7648.35                   2015  \n",
       "1     2005-11-07  30189.90                   2016  \n",
       "2     2003-06-25  50553.17                   2015  \n",
       "3     2006-12-21  15907.28                   2015  \n",
       "4     2007-08-07  27916.19                   2016  "
      ]
     },
     "execution_count": 10,
     "metadata": {},
     "output_type": "execute_result"
    }
   ],
   "source": [
    "# First 5 rows\n",
    "df.head()"
   ]
  },
  {
   "cell_type": "code",
   "execution_count": 11,
   "metadata": {},
   "outputs": [],
   "source": [
    "# Save a reference to individuals with a mortgage\n",
    "mortgage_rows = df[\"MORTGAGE\"] == \"Y\""
   ]
  },
  {
   "cell_type": "markdown",
   "metadata": {},
   "source": [
    "### Inflation correction\n",
    "Source: https://www.raiffeisenzertifikate.at/en/inflation-calculator/"
   ]
  },
  {
   "cell_type": "code",
   "execution_count": 12,
   "metadata": {},
   "outputs": [],
   "source": [
    "# Multiply monetary columns by the average inflation rate of this time period\n",
    "for column in [\"INCOME\", \"BALANCE\"]:\n",
    "    df.loc[mortgage_rows, column] = (df.loc[mortgage_rows, column] * 1.0125).round(2)"
   ]
  },
  {
   "cell_type": "markdown",
   "metadata": {},
   "source": [
    "### Removing dates after getting a mortgage"
   ]
  },
  {
   "cell_type": "code",
   "execution_count": 13,
   "metadata": {},
   "outputs": [],
   "source": [
    "# Set date columns to NaT after mortgage getting year\n",
    "for column in [\"ADDRESS_DATE\", \"JOB_DATE\"]:\n",
    "    nat_rows = df[\"MORTGAGE_GETTING_YEAR\"] < df[column].dt.year\n",
    "    df.loc[nat_rows, column] = pd.NaT"
   ]
  },
  {
   "cell_type": "markdown",
   "metadata": {},
   "source": [
    "### Rolling back the age values to when people got their mortgages"
   ]
  },
  {
   "cell_type": "code",
   "execution_count": 14,
   "metadata": {},
   "outputs": [],
   "source": [
    "# Set the age of individuals with a mortgage to the age at the time of the mortgage getting\n",
    "df.loc[mortgage_rows, \"AGE\"] = df.loc[mortgage_rows, \"MORTGAGE_GETTING_AGE\"]"
   ]
  },
  {
   "cell_type": "markdown",
   "metadata": {},
   "source": [
    "### Rolling back the years with the bank too"
   ]
  },
  {
   "cell_type": "code",
   "execution_count": 15,
   "metadata": {},
   "outputs": [],
   "source": [
    "# Subtract the difference of current year and mortgage getting year from the years with bank\n",
    "df.loc[mortgage_rows, \"YEARS_WITH_BANK\"] -= DATA_CREATION.year - df.loc[mortgage_rows, \"MORTGAGE_GETTING_YEAR\"]\n",
    "\n",
    "# Set negative values to 0\n",
    "df.loc[df[\"YEARS_WITH_BANK\"] < 0, \"YEARS_WITH_BANK\"] = 0"
   ]
  },
  {
   "cell_type": "markdown",
   "metadata": {},
   "source": [
    "### Removing columns that are no longer needed"
   ]
  },
  {
   "cell_type": "code",
   "execution_count": 16,
   "metadata": {},
   "outputs": [],
   "source": [
    "# Drop mortgage getting age and mortgage getting year\n",
    "df.drop([\"MORTGAGE_GETTING_AGE\", \"MORTGAGE_GETTING_YEAR\"], axis=1, inplace=True)"
   ]
  },
  {
   "cell_type": "code",
   "execution_count": 17,
   "metadata": {},
   "outputs": [
    {
     "data": {
      "text/html": [
       "<div>\n",
       "<style scoped>\n",
       "    .dataframe tbody tr th:only-of-type {\n",
       "        vertical-align: middle;\n",
       "    }\n",
       "\n",
       "    .dataframe tbody tr th {\n",
       "        vertical-align: top;\n",
       "    }\n",
       "\n",
       "    .dataframe thead th {\n",
       "        text-align: right;\n",
       "    }\n",
       "</style>\n",
       "<table border=\"1\" class=\"dataframe\">\n",
       "  <thead>\n",
       "    <tr style=\"text-align: right;\">\n",
       "      <th></th>\n",
       "      <th>MORTGAGE</th>\n",
       "      <th>AGE</th>\n",
       "      <th>YEARS_WITH_BANK</th>\n",
       "      <th>MARITAL_STATUS</th>\n",
       "      <th>EDUCATION</th>\n",
       "      <th>EMPLOYMENT</th>\n",
       "      <th>GENDER</th>\n",
       "      <th>INCOME</th>\n",
       "      <th>ADDRESS_DATE</th>\n",
       "      <th>JOB_DATE</th>\n",
       "      <th>WITH_BANK_DATE</th>\n",
       "      <th>BALANCE</th>\n",
       "    </tr>\n",
       "  </thead>\n",
       "  <tbody>\n",
       "    <tr>\n",
       "      <th>0</th>\n",
       "      <td>Y</td>\n",
       "      <td>50</td>\n",
       "      <td>11</td>\n",
       "      <td>M</td>\n",
       "      <td>HGH</td>\n",
       "      <td>PVE</td>\n",
       "      <td>M</td>\n",
       "      <td>920.87</td>\n",
       "      <td>1979-04-18</td>\n",
       "      <td>2010-01-01</td>\n",
       "      <td>2004-03-16</td>\n",
       "      <td>7743.95</td>\n",
       "    </tr>\n",
       "    <tr>\n",
       "      <th>1</th>\n",
       "      <td>Y</td>\n",
       "      <td>48</td>\n",
       "      <td>10</td>\n",
       "      <td>M</td>\n",
       "      <td>HGH</td>\n",
       "      <td>SFE</td>\n",
       "      <td>M</td>\n",
       "      <td>292.07</td>\n",
       "      <td>1999-12-16</td>\n",
       "      <td>2004-01-20</td>\n",
       "      <td>2005-11-07</td>\n",
       "      <td>30567.27</td>\n",
       "    </tr>\n",
       "    <tr>\n",
       "      <th>2</th>\n",
       "      <td>Y</td>\n",
       "      <td>53</td>\n",
       "      <td>12</td>\n",
       "      <td>M</td>\n",
       "      <td>BCR</td>\n",
       "      <td>STE</td>\n",
       "      <td>M</td>\n",
       "      <td>1296.54</td>\n",
       "      <td>2005-06-28</td>\n",
       "      <td>1990-09-01</td>\n",
       "      <td>2003-06-25</td>\n",
       "      <td>51185.08</td>\n",
       "    </tr>\n",
       "    <tr>\n",
       "      <th>3</th>\n",
       "      <td>Y</td>\n",
       "      <td>64</td>\n",
       "      <td>8</td>\n",
       "      <td>M</td>\n",
       "      <td>BCR</td>\n",
       "      <td>OTH</td>\n",
       "      <td>F</td>\n",
       "      <td>628.72</td>\n",
       "      <td>2000-12-22</td>\n",
       "      <td>NaT</td>\n",
       "      <td>2006-12-21</td>\n",
       "      <td>16106.12</td>\n",
       "    </tr>\n",
       "    <tr>\n",
       "      <th>4</th>\n",
       "      <td>Y</td>\n",
       "      <td>46</td>\n",
       "      <td>8</td>\n",
       "      <td>S</td>\n",
       "      <td>MAS</td>\n",
       "      <td>PVE</td>\n",
       "      <td>F</td>\n",
       "      <td>2267.85</td>\n",
       "      <td>2009-08-01</td>\n",
       "      <td>2013-12-24</td>\n",
       "      <td>2007-08-07</td>\n",
       "      <td>28265.14</td>\n",
       "    </tr>\n",
       "  </tbody>\n",
       "</table>\n",
       "</div>"
      ],
      "text/plain": [
       "  MORTGAGE  AGE  YEARS_WITH_BANK MARITAL_STATUS EDUCATION EMPLOYMENT GENDER   INCOME ADDRESS_DATE   JOB_DATE WITH_BANK_DATE   BALANCE\n",
       "0        Y   50               11              M       HGH        PVE      M   920.87   1979-04-18 2010-01-01     2004-03-16   7743.95\n",
       "1        Y   48               10              M       HGH        SFE      M   292.07   1999-12-16 2004-01-20     2005-11-07  30567.27\n",
       "2        Y   53               12              M       BCR        STE      M  1296.54   2005-06-28 1990-09-01     2003-06-25  51185.08\n",
       "3        Y   64                8              M       BCR        OTH      F   628.72   2000-12-22        NaT     2006-12-21  16106.12\n",
       "4        Y   46                8              S       MAS        PVE      F  2267.85   2009-08-01 2013-12-24     2007-08-07  28265.14"
      ]
     },
     "execution_count": 17,
     "metadata": {},
     "output_type": "execute_result"
    }
   ],
   "source": [
    "# First 5 rows\n",
    "df.head()"
   ]
  },
  {
   "cell_type": "markdown",
   "metadata": {},
   "source": [
    "----\n",
    "## Transforming the data to be consumable by machine learning models"
   ]
  },
  {
   "cell_type": "markdown",
   "metadata": {},
   "source": [
    "----"
   ]
  },
  {
   "cell_type": "code",
   "execution_count": 18,
   "metadata": {},
   "outputs": [],
   "source": [
    "# Map the values of the mortgage column to 1.0 and 0.0\n",
    "df[\"MORTGAGE\"] = df[\"MORTGAGE\"].map({\"Y\": 1.0, \"N\": 0.0}).astype(\"float64\")"
   ]
  },
  {
   "cell_type": "code",
   "execution_count": 19,
   "metadata": {},
   "outputs": [],
   "source": [
    "# Age normalization\n",
    "df[\"AGE\"] = df[\"AGE\"] / df[\"AGE\"].max()"
   ]
  },
  {
   "cell_type": "code",
   "execution_count": 20,
   "metadata": {},
   "outputs": [],
   "source": [
    "# Fill missing values of years with bank with the mean\n",
    "df[\"YEARS_WITH_BANK\"].fillna(df[\"YEARS_WITH_BANK\"].mean(), inplace=True)\n",
    "\n",
    "# Years with bank normalization\n",
    "df[\"YEARS_WITH_BANK\"] = (df[\"YEARS_WITH_BANK\"] + 1).apply(np.log)"
   ]
  },
  {
   "cell_type": "code",
   "execution_count": 21,
   "metadata": {},
   "outputs": [],
   "source": [
    "# Income normalization\n",
    "df[\"INCOME\"] = (df[\"INCOME\"] + 1).apply(np.log)\n",
    "\n",
    "# Balance normalization\n",
    "df[\"BALANCE\"] = (df[\"BALANCE\"] + 1).apply(np.log)"
   ]
  },
  {
   "cell_type": "code",
   "execution_count": 22,
   "metadata": {},
   "outputs": [],
   "source": [
    "# Drop with bank date column\n",
    "df.drop(\"WITH_BANK_DATE\", axis=1, inplace=True)\n",
    "\n",
    "for column in [\"ADDRESS\", \"JOB\"]:\n",
    "\n",
    "    date_column = f\"{column}_DATE\"\n",
    "    year_column = f\"{column}_YEAR\"\n",
    "    missing_column = f\"{column}_MISSING\"\n",
    "    years_with_column = f\"YEARS_WITH_{column}\"\n",
    "\n",
    "    # Create missing date column\n",
    "    df[missing_column] = df[date_column].isna().astype(float)\n",
    "\n",
    "    # Fill missing values with the mean\n",
    "    df[date_column].fillna(df[date_column].mean(), inplace=True)\n",
    "\n",
    "    # Create year column\n",
    "    df[year_column] = df[date_column].dt.year.astype(float)\n",
    "\n",
    "    # Create \"years with\" column\n",
    "    df[years_with_column] = (DATA_CREATION.year - df[year_column] + 1).apply(np.log)\n",
    "\n",
    "    # Drop date column\n",
    "    df.drop(date_column, axis=1, inplace=True)\n",
    "\n",
    "    # Drop year column\n",
    "    df.drop(year_column, axis=1, inplace=True)"
   ]
  },
  {
   "cell_type": "code",
   "execution_count": 23,
   "metadata": {},
   "outputs": [],
   "source": [
    "# Create missing marital status column\n",
    "df[\"MARITAL_STATUS_MISSING\"] = df[\"MARITAL_STATUS\"].isna().astype(float)\n",
    "\n",
    "# Fill missing values with the mode\n",
    "df[\"MARITAL_STATUS\"].fillna(df[\"MARITAL_STATUS\"].mode()[0], inplace=True)\n",
    "\n",
    "# Get list of categorical columns\n",
    "category_columns = df.select_dtypes(include=[\"category\"]).columns.tolist()\n",
    "\n",
    "# Create dummy columns for categorical columns\n",
    "df = pd.get_dummies(df, columns=category_columns, drop_first=True, dtype=float)"
   ]
  },
  {
   "cell_type": "code",
   "execution_count": 24,
   "metadata": {},
   "outputs": [
    {
     "data": {
      "text/html": [
       "<div>\n",
       "<style scoped>\n",
       "    .dataframe tbody tr th:only-of-type {\n",
       "        vertical-align: middle;\n",
       "    }\n",
       "\n",
       "    .dataframe tbody tr th {\n",
       "        vertical-align: top;\n",
       "    }\n",
       "\n",
       "    .dataframe thead th {\n",
       "        text-align: right;\n",
       "    }\n",
       "</style>\n",
       "<table border=\"1\" class=\"dataframe\">\n",
       "  <thead>\n",
       "    <tr style=\"text-align: right;\">\n",
       "      <th></th>\n",
       "      <th>MORTGAGE</th>\n",
       "      <th>AGE</th>\n",
       "      <th>YEARS_WITH_BANK</th>\n",
       "      <th>INCOME</th>\n",
       "      <th>BALANCE</th>\n",
       "      <th>ADDRESS_MISSING</th>\n",
       "      <th>YEARS_WITH_ADDRESS</th>\n",
       "      <th>JOB_MISSING</th>\n",
       "      <th>YEARS_WITH_JOB</th>\n",
       "      <th>MARITAL_STATUS_MISSING</th>\n",
       "      <th>...</th>\n",
       "      <th>EDUCATION_OTH</th>\n",
       "      <th>EDUCATION_PHD</th>\n",
       "      <th>EDUCATION_PRI</th>\n",
       "      <th>EDUCATION_PRS</th>\n",
       "      <th>EDUCATION_SEC</th>\n",
       "      <th>EMPLOYMENT_PVE</th>\n",
       "      <th>EMPLOYMENT_RET</th>\n",
       "      <th>EMPLOYMENT_SFE</th>\n",
       "      <th>EMPLOYMENT_STE</th>\n",
       "      <th>GENDER_M</th>\n",
       "    </tr>\n",
       "  </thead>\n",
       "  <tbody>\n",
       "    <tr>\n",
       "      <th>0</th>\n",
       "      <td>1.0</td>\n",
       "      <td>0.543478</td>\n",
       "      <td>2.484907</td>\n",
       "      <td>6.826404</td>\n",
       "      <td>8.954796</td>\n",
       "      <td>0.0</td>\n",
       "      <td>3.663562</td>\n",
       "      <td>0.0</td>\n",
       "      <td>2.079442</td>\n",
       "      <td>0.0</td>\n",
       "      <td>...</td>\n",
       "      <td>0.0</td>\n",
       "      <td>0.0</td>\n",
       "      <td>0.0</td>\n",
       "      <td>0.0</td>\n",
       "      <td>0.0</td>\n",
       "      <td>1.0</td>\n",
       "      <td>0.0</td>\n",
       "      <td>0.0</td>\n",
       "      <td>0.0</td>\n",
       "      <td>1.0</td>\n",
       "    </tr>\n",
       "    <tr>\n",
       "      <th>1</th>\n",
       "      <td>1.0</td>\n",
       "      <td>0.521739</td>\n",
       "      <td>2.397895</td>\n",
       "      <td>5.680411</td>\n",
       "      <td>10.327718</td>\n",
       "      <td>0.0</td>\n",
       "      <td>2.944439</td>\n",
       "      <td>0.0</td>\n",
       "      <td>2.639057</td>\n",
       "      <td>0.0</td>\n",
       "      <td>...</td>\n",
       "      <td>0.0</td>\n",
       "      <td>0.0</td>\n",
       "      <td>0.0</td>\n",
       "      <td>0.0</td>\n",
       "      <td>0.0</td>\n",
       "      <td>0.0</td>\n",
       "      <td>0.0</td>\n",
       "      <td>1.0</td>\n",
       "      <td>0.0</td>\n",
       "      <td>1.0</td>\n",
       "    </tr>\n",
       "    <tr>\n",
       "      <th>2</th>\n",
       "      <td>1.0</td>\n",
       "      <td>0.576087</td>\n",
       "      <td>2.564949</td>\n",
       "      <td>7.168225</td>\n",
       "      <td>10.843223</td>\n",
       "      <td>0.0</td>\n",
       "      <td>2.564949</td>\n",
       "      <td>0.0</td>\n",
       "      <td>3.332205</td>\n",
       "      <td>0.0</td>\n",
       "      <td>...</td>\n",
       "      <td>0.0</td>\n",
       "      <td>0.0</td>\n",
       "      <td>0.0</td>\n",
       "      <td>0.0</td>\n",
       "      <td>0.0</td>\n",
       "      <td>0.0</td>\n",
       "      <td>0.0</td>\n",
       "      <td>0.0</td>\n",
       "      <td>1.0</td>\n",
       "      <td>1.0</td>\n",
       "    </tr>\n",
       "    <tr>\n",
       "      <th>3</th>\n",
       "      <td>1.0</td>\n",
       "      <td>0.695652</td>\n",
       "      <td>2.197225</td>\n",
       "      <td>6.445275</td>\n",
       "      <td>9.687017</td>\n",
       "      <td>0.0</td>\n",
       "      <td>2.890372</td>\n",
       "      <td>1.0</td>\n",
       "      <td>2.564949</td>\n",
       "      <td>0.0</td>\n",
       "      <td>...</td>\n",
       "      <td>0.0</td>\n",
       "      <td>0.0</td>\n",
       "      <td>0.0</td>\n",
       "      <td>0.0</td>\n",
       "      <td>0.0</td>\n",
       "      <td>0.0</td>\n",
       "      <td>0.0</td>\n",
       "      <td>0.0</td>\n",
       "      <td>0.0</td>\n",
       "      <td>0.0</td>\n",
       "    </tr>\n",
       "    <tr>\n",
       "      <th>4</th>\n",
       "      <td>1.0</td>\n",
       "      <td>0.500000</td>\n",
       "      <td>2.197225</td>\n",
       "      <td>7.727028</td>\n",
       "      <td>10.249420</td>\n",
       "      <td>0.0</td>\n",
       "      <td>2.197225</td>\n",
       "      <td>0.0</td>\n",
       "      <td>1.609438</td>\n",
       "      <td>0.0</td>\n",
       "      <td>...</td>\n",
       "      <td>0.0</td>\n",
       "      <td>0.0</td>\n",
       "      <td>0.0</td>\n",
       "      <td>0.0</td>\n",
       "      <td>0.0</td>\n",
       "      <td>1.0</td>\n",
       "      <td>0.0</td>\n",
       "      <td>0.0</td>\n",
       "      <td>0.0</td>\n",
       "      <td>0.0</td>\n",
       "    </tr>\n",
       "  </tbody>\n",
       "</table>\n",
       "<p>5 rows × 25 columns</p>\n",
       "</div>"
      ],
      "text/plain": [
       "   MORTGAGE       AGE  YEARS_WITH_BANK    INCOME    BALANCE  ADDRESS_MISSING  YEARS_WITH_ADDRESS  JOB_MISSING  YEARS_WITH_JOB  \\\n",
       "0       1.0  0.543478         2.484907  6.826404   8.954796              0.0            3.663562          0.0        2.079442   \n",
       "1       1.0  0.521739         2.397895  5.680411  10.327718              0.0            2.944439          0.0        2.639057   \n",
       "2       1.0  0.576087         2.564949  7.168225  10.843223              0.0            2.564949          0.0        3.332205   \n",
       "3       1.0  0.695652         2.197225  6.445275   9.687017              0.0            2.890372          1.0        2.564949   \n",
       "4       1.0  0.500000         2.197225  7.727028  10.249420              0.0            2.197225          0.0        1.609438   \n",
       "\n",
       "   MARITAL_STATUS_MISSING  ...  EDUCATION_OTH  EDUCATION_PHD  EDUCATION_PRI  EDUCATION_PRS  EDUCATION_SEC  EMPLOYMENT_PVE  EMPLOYMENT_RET  \\\n",
       "0                     0.0  ...            0.0            0.0            0.0            0.0            0.0             1.0             0.0   \n",
       "1                     0.0  ...            0.0            0.0            0.0            0.0            0.0             0.0             0.0   \n",
       "2                     0.0  ...            0.0            0.0            0.0            0.0            0.0             0.0             0.0   \n",
       "3                     0.0  ...            0.0            0.0            0.0            0.0            0.0             0.0             0.0   \n",
       "4                     0.0  ...            0.0            0.0            0.0            0.0            0.0             1.0             0.0   \n",
       "\n",
       "   EMPLOYMENT_SFE  EMPLOYMENT_STE  GENDER_M  \n",
       "0             0.0             0.0       1.0  \n",
       "1             1.0             0.0       1.0  \n",
       "2             0.0             1.0       1.0  \n",
       "3             0.0             0.0       0.0  \n",
       "4             0.0             0.0       0.0  \n",
       "\n",
       "[5 rows x 25 columns]"
      ]
     },
     "execution_count": 24,
     "metadata": {},
     "output_type": "execute_result"
    }
   ],
   "source": [
    "df.head()"
   ]
  },
  {
   "cell_type": "code",
   "execution_count": 25,
   "metadata": {},
   "outputs": [
    {
     "name": "stdout",
     "output_type": "stream",
     "text": [
      "<class 'pandas.core.frame.DataFrame'>\n",
      "RangeIndex: 23983 entries, 0 to 23982\n",
      "Data columns (total 25 columns):\n",
      " #   Column                  Non-Null Count  Dtype  \n",
      "---  ------                  --------------  -----  \n",
      " 0   MORTGAGE                23983 non-null  float64\n",
      " 1   AGE                     23983 non-null  float64\n",
      " 2   YEARS_WITH_BANK         23983 non-null  float64\n",
      " 3   INCOME                  23983 non-null  float64\n",
      " 4   BALANCE                 23983 non-null  float64\n",
      " 5   ADDRESS_MISSING         23983 non-null  float64\n",
      " 6   YEARS_WITH_ADDRESS      23983 non-null  float64\n",
      " 7   JOB_MISSING             23983 non-null  float64\n",
      " 8   YEARS_WITH_JOB          23983 non-null  float64\n",
      " 9   MARITAL_STATUS_MISSING  23983 non-null  float64\n",
      " 10  MARITAL_STATUS_M        23983 non-null  float64\n",
      " 11  MARITAL_STATUS_S        23983 non-null  float64\n",
      " 12  MARITAL_STATUS_W        23983 non-null  float64\n",
      " 13  EDUCATION_HGH           23983 non-null  float64\n",
      " 14  EDUCATION_MAS           23983 non-null  float64\n",
      " 15  EDUCATION_OTH           23983 non-null  float64\n",
      " 16  EDUCATION_PHD           23983 non-null  float64\n",
      " 17  EDUCATION_PRI           23983 non-null  float64\n",
      " 18  EDUCATION_PRS           23983 non-null  float64\n",
      " 19  EDUCATION_SEC           23983 non-null  float64\n",
      " 20  EMPLOYMENT_PVE          23983 non-null  float64\n",
      " 21  EMPLOYMENT_RET          23983 non-null  float64\n",
      " 22  EMPLOYMENT_SFE          23983 non-null  float64\n",
      " 23  EMPLOYMENT_STE          23983 non-null  float64\n",
      " 24  GENDER_M                23983 non-null  float64\n",
      "dtypes: float64(25)\n",
      "memory usage: 4.6 MB\n"
     ]
    }
   ],
   "source": [
    "df.info()"
   ]
  },
  {
   "cell_type": "markdown",
   "metadata": {},
   "source": [
    "----\n",
    "## Saving the transformed data"
   ]
  },
  {
   "cell_type": "code",
   "execution_count": 26,
   "metadata": {},
   "outputs": [],
   "source": [
    "save_path = data_path.replace(\"clean\", \"transformed\")\n",
    "save_dir = os.path.dirname(save_path)\n",
    "\n",
    "if not os.path.exists(save_dir):\n",
    "    os.mkdir(save_dir)\n",
    "\n",
    "df.to_csv(save_path, index=False, sep=\";\")"
   ]
  },
  {
   "cell_type": "markdown",
   "metadata": {},
   "source": [
    "----\n",
    "## Visualize mortgage correlation"
   ]
  },
  {
   "cell_type": "code",
   "execution_count": 27,
   "metadata": {},
   "outputs": [
    {
     "data": {
      "image/png": "[encoded data removed]",
      "text/plain": [
       "<Figure size 400x1600 with 2 Axes>"
      ]
     },
     "metadata": {},
     "output_type": "display_data"
    }
   ],
   "source": [
    "# Select rows with mortgage\n",
    "mortgage_rows = df[\"MORTGAGE\"] == 1.0\n",
    "\n",
    "# Select 1000 random rows without mortgage\n",
    "no_mortgage_rows = df[~mortgage_rows].sample(n=1000, random_state=42)\n",
    "\n",
    "# Concatenate the rows to a new dataframe\n",
    "df = pd.concat([df[mortgage_rows], no_mortgage_rows])\n",
    "\n",
    "# Create a correlation matrix\n",
    "corr_matrix = df.corr()\n",
    "\n",
    "# Visualize only the first column of the correlation matrix\n",
    "plt.matshow(corr_matrix.iloc[:, :1])\n",
    "plt.xticks([])\n",
    "plt.yticks(range(len(corr_matrix.columns)), corr_matrix.columns)\n",
    "plt.colorbar(orientation=\"horizontal\")\n",
    "plt.title(\"Correlation with Mortgage\")\n",
    "plt.show()"
   ]
  }
 ],
 "metadata": {
  "kernelspec": {
   "display_name": "Python 3",
   "language": "python",
   "name": "python3"
  },
  "language_info": {
   "codemirror_mode": {
    "name": "ipython",
    "version": 3
   },
   "file_extension": ".py",
   "mimetype": "text/x-python",
   "name": "python",
   "nbconvert_exporter": "python",
   "pygments_lexer": "ipython3",
   "version": "3.10.13"
  }
 },
 "nbformat": 4,
 "nbformat_minor": 2
}
