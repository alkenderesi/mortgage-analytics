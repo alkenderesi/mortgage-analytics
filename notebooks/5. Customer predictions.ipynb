{
 "cells": [
  {
   "cell_type": "markdown",
   "metadata": {},
   "source": [
    "## Package imports & settings"
   ]
  },
  {
   "cell_type": "code",
   "execution_count": 1,
   "metadata": {},
   "outputs": [],
   "source": [
    "import os\n",
    "import pandas as pd\n",
    "from fastai.tabular.all import *\n",
    "\n",
    "\n",
    "pd.set_option(\"display.width\", 140)"
   ]
  },
  {
   "cell_type": "markdown",
   "metadata": {},
   "source": [
    "----\n",
    "## Reading in the data"
   ]
  },
  {
   "cell_type": "code",
   "execution_count": 2,
   "metadata": {},
   "outputs": [],
   "source": [
    "transformed_data_path = \"../data/processed/transformed/Potential Customers.csv\"\n",
    "raw_data_path = \"../data/raw/Potential Customers.csv\"\n",
    "\n",
    "df_t = pd.read_csv(transformed_data_path, sep=\";\")\n",
    "df_r = pd.read_csv(raw_data_path, sep=\";\")"
   ]
  },
  {
   "cell_type": "code",
   "execution_count": 3,
   "metadata": {},
   "outputs": [
    {
     "name": "stdout",
     "output_type": "stream",
     "text": [
      "<class 'pandas.core.frame.DataFrame'>\n",
      "RangeIndex: 2747 entries, 0 to 2746\n",
      "Data columns (total 29 columns):\n",
      " #   Column                  Non-Null Count  Dtype  \n",
      "---  ------                  --------------  -----  \n",
      " 0   AGE                     2747 non-null   float64\n",
      " 1   YEARS_WITH_BANK         2747 non-null   float64\n",
      " 2   INCOME                  2747 non-null   float64\n",
      " 3   BALANCE                 2747 non-null   float64\n",
      " 4   ADDRESS_MISSING         2747 non-null   float64\n",
      " 5   YEARS_WITH_ADDRESS      2747 non-null   float64\n",
      " 6   JOB_MISSING             2747 non-null   float64\n",
      " 7   YEARS_WITH_JOB          2747 non-null   float64\n",
      " 8   MARITAL_STATUS_MISSING  2747 non-null   float64\n",
      " 9   MARITAL_STATUS_D        2747 non-null   float64\n",
      " 10  MARITAL_STATUS_M        2747 non-null   float64\n",
      " 11  MARITAL_STATUS_S        2747 non-null   float64\n",
      " 12  MARITAL_STATUS_W        2747 non-null   float64\n",
      " 13  EDUCATION_BCR           2747 non-null   float64\n",
      " 14  EDUCATION_HGH           2747 non-null   float64\n",
      " 15  EDUCATION_MAS           2747 non-null   float64\n",
      " 16  EDUCATION_OTH           2747 non-null   float64\n",
      " 17  EDUCATION_PHD           2747 non-null   float64\n",
      " 18  EDUCATION_PRI           2747 non-null   float64\n",
      " 19  EDUCATION_PRS           2747 non-null   float64\n",
      " 20  EDUCATION_SEC           2747 non-null   float64\n",
      " 21  EMPLOYMENT_OTH          2747 non-null   float64\n",
      " 22  EMPLOYMENT_PVE          2747 non-null   float64\n",
      " 23  EMPLOYMENT_RET          2747 non-null   float64\n",
      " 24  EMPLOYMENT_SFE          2747 non-null   float64\n",
      " 25  EMPLOYMENT_STE          2747 non-null   float64\n",
      " 26  EMPLOYMENT_TEA          2747 non-null   float64\n",
      " 27  GENDER_F                2747 non-null   float64\n",
      " 28  GENDER_M                2747 non-null   float64\n",
      "dtypes: float64(29)\n",
      "memory usage: 622.5 KB\n"
     ]
    }
   ],
   "source": [
    "df_t.info()"
   ]
  },
  {
   "cell_type": "code",
   "execution_count": 4,
   "metadata": {},
   "outputs": [
    {
     "name": "stdout",
     "output_type": "stream",
     "text": [
      "<class 'pandas.core.frame.DataFrame'>\n",
      "RangeIndex: 2747 entries, 0 to 2746\n",
      "Data columns (total 12 columns):\n",
      " #   Column                  Non-Null Count  Dtype \n",
      "---  ------                  --------------  ----- \n",
      " 0   Cocunut                 2747 non-null   int64 \n",
      " 1   AGE                     2747 non-null   int64 \n",
      " 2   YEARS_WITH_BANK         2747 non-null   int64 \n",
      " 3   MARTIAL_STATUS          2747 non-null   object\n",
      " 4   EDUCATION               2747 non-null   object\n",
      " 5   EMPLOYMENT              2747 non-null   object\n",
      " 6   GENDER                  2747 non-null   object\n",
      " 7   CUST_INCOME             2747 non-null   object\n",
      " 8   CURRENT_ADDRESS_DATE    2747 non-null   object\n",
      " 9   CURRENT_JOB_DATE        2747 non-null   object\n",
      " 10  CURRENT_WITH_BANK_DATE  2747 non-null   object\n",
      " 11  CURRENT_BALANCE_EUR     2747 non-null   object\n",
      "dtypes: int64(3), object(9)\n",
      "memory usage: 257.7+ KB\n"
     ]
    }
   ],
   "source": [
    "df_r.info()"
   ]
  },
  {
   "cell_type": "markdown",
   "metadata": {},
   "source": [
    "----\n",
    "## Loading in the model"
   ]
  },
  {
   "cell_type": "code",
   "execution_count": 5,
   "metadata": {},
   "outputs": [],
   "source": [
    "model_path = \"../models/model.pkl\"\n",
    "\n",
    "learn = load_learner(model_path)"
   ]
  },
  {
   "cell_type": "markdown",
   "metadata": {},
   "source": [
    "----\n",
    "## Performing predictions"
   ]
  },
  {
   "cell_type": "code",
   "execution_count": 6,
   "metadata": {},
   "outputs": [],
   "source": [
    "def predict_with_model(row, learn):\n",
    "    with learn.no_bar(), learn.no_logging():\n",
    "        _, index, probs = learn.predict(row)\n",
    "        pred = \"Y\" if index == 1 else \"N\"\n",
    "        return pd.Series([pred, probs[index].numpy()])\n",
    "\n",
    "df_r[[\"MORTGAGE_PRED\", \"MORTGAGE_PROB\"]] = df_t.apply(lambda row: predict_with_model(row, learn), axis=1)"
   ]
  },
  {
   "cell_type": "code",
   "execution_count": 7,
   "metadata": {},
   "outputs": [
    {
     "data": {
      "text/html": [
       "<div>\n",
       "<style scoped>\n",
       "    .dataframe tbody tr th:only-of-type {\n",
       "        vertical-align: middle;\n",
       "    }\n",
       "\n",
       "    .dataframe tbody tr th {\n",
       "        vertical-align: top;\n",
       "    }\n",
       "\n",
       "    .dataframe thead th {\n",
       "        text-align: right;\n",
       "    }\n",
       "</style>\n",
       "<table border=\"1\" class=\"dataframe\">\n",
       "  <thead>\n",
       "    <tr style=\"text-align: right;\">\n",
       "      <th></th>\n",
       "      <th>Cocunut</th>\n",
       "      <th>AGE</th>\n",
       "      <th>YEARS_WITH_BANK</th>\n",
       "      <th>MARTIAL_STATUS</th>\n",
       "      <th>EDUCATION</th>\n",
       "      <th>EMPLOYMENT</th>\n",
       "      <th>GENDER</th>\n",
       "      <th>CUST_INCOME</th>\n",
       "      <th>CURRENT_ADDRESS_DATE</th>\n",
       "      <th>CURRENT_JOB_DATE</th>\n",
       "      <th>CURRENT_WITH_BANK_DATE</th>\n",
       "      <th>CURRENT_BALANCE_EUR</th>\n",
       "      <th>MORTGAGE_PRED</th>\n",
       "      <th>MORTGAGE_PROB</th>\n",
       "    </tr>\n",
       "  </thead>\n",
       "  <tbody>\n",
       "    <tr>\n",
       "      <th>0</th>\n",
       "      <td>80001</td>\n",
       "      <td>32</td>\n",
       "      <td>3</td>\n",
       "      <td>M</td>\n",
       "      <td>HGH</td>\n",
       "      <td>PVE</td>\n",
       "      <td>M</td>\n",
       "      <td>423,0769231</td>\n",
       "      <td>1985-01-21</td>\n",
       "      <td>2005-01-01</td>\n",
       "      <td>2014-07-02</td>\n",
       "      <td>143</td>\n",
       "      <td>N</td>\n",
       "      <td>0.99944216</td>\n",
       "    </tr>\n",
       "    <tr>\n",
       "      <th>1</th>\n",
       "      <td>80002</td>\n",
       "      <td>51</td>\n",
       "      <td>10</td>\n",
       "      <td>W</td>\n",
       "      <td>SEC</td>\n",
       "      <td>RET</td>\n",
       "      <td>F</td>\n",
       "      <td>140,6102308</td>\n",
       "      <td>2010-10-23</td>\n",
       "      <td>9999-10-01</td>\n",
       "      <td>2007-02-21</td>\n",
       "      <td>2288,700154</td>\n",
       "      <td>N</td>\n",
       "      <td>0.99931157</td>\n",
       "    </tr>\n",
       "    <tr>\n",
       "      <th>2</th>\n",
       "      <td>80003</td>\n",
       "      <td>36</td>\n",
       "      <td>7</td>\n",
       "      <td>M</td>\n",
       "      <td>BCR</td>\n",
       "      <td>STE</td>\n",
       "      <td>F</td>\n",
       "      <td>326,9230769</td>\n",
       "      <td>1981-10-16</td>\n",
       "      <td>2009-09-10</td>\n",
       "      <td>2009-10-26</td>\n",
       "      <td>2268,491692</td>\n",
       "      <td>N</td>\n",
       "      <td>0.9993444</td>\n",
       "    </tr>\n",
       "    <tr>\n",
       "      <th>3</th>\n",
       "      <td>80004</td>\n",
       "      <td>46</td>\n",
       "      <td>11</td>\n",
       "      <td>D</td>\n",
       "      <td>BCR</td>\n",
       "      <td>TEA</td>\n",
       "      <td>F</td>\n",
       "      <td>738,82</td>\n",
       "      <td>2008-09-01</td>\n",
       "      <td>2005-11-01</td>\n",
       "      <td>2005-11-30</td>\n",
       "      <td>4536,983462</td>\n",
       "      <td>N</td>\n",
       "      <td>0.9905455</td>\n",
       "    </tr>\n",
       "    <tr>\n",
       "      <th>4</th>\n",
       "      <td>80005</td>\n",
       "      <td>39</td>\n",
       "      <td>10</td>\n",
       "      <td>M</td>\n",
       "      <td>HGH</td>\n",
       "      <td>PVE</td>\n",
       "      <td>M</td>\n",
       "      <td>483,9282308</td>\n",
       "      <td>1993-09-01</td>\n",
       "      <td>2013-06-01</td>\n",
       "      <td>2006-12-05</td>\n",
       "      <td>3076,923077</td>\n",
       "      <td>N</td>\n",
       "      <td>0.99957436</td>\n",
       "    </tr>\n",
       "  </tbody>\n",
       "</table>\n",
       "</div>"
      ],
      "text/plain": [
       "   Cocunut  AGE  YEARS_WITH_BANK MARTIAL_STATUS EDUCATION EMPLOYMENT GENDER  CUST_INCOME CURRENT_ADDRESS_DATE CURRENT_JOB_DATE  \\\n",
       "0    80001   32                3              M       HGH        PVE      M  423,0769231           1985-01-21       2005-01-01   \n",
       "1    80002   51               10              W       SEC        RET      F  140,6102308           2010-10-23       9999-10-01   \n",
       "2    80003   36                7              M       BCR        STE      F  326,9230769           1981-10-16       2009-09-10   \n",
       "3    80004   46               11              D       BCR        TEA      F       738,82           2008-09-01       2005-11-01   \n",
       "4    80005   39               10              M       HGH        PVE      M  483,9282308           1993-09-01       2013-06-01   \n",
       "\n",
       "  CURRENT_WITH_BANK_DATE CURRENT_BALANCE_EUR MORTGAGE_PRED MORTGAGE_PROB  \n",
       "0             2014-07-02                 143             N    0.99944216  \n",
       "1             2007-02-21         2288,700154             N    0.99931157  \n",
       "2             2009-10-26         2268,491692             N     0.9993444  \n",
       "3             2005-11-30         4536,983462             N     0.9905455  \n",
       "4             2006-12-05         3076,923077             N    0.99957436  "
      ]
     },
     "execution_count": 7,
     "metadata": {},
     "output_type": "execute_result"
    }
   ],
   "source": [
    "df_r.head()"
   ]
  },
  {
   "cell_type": "markdown",
   "metadata": {},
   "source": [
    "----\n",
    "## Saving predicted values"
   ]
  },
  {
   "cell_type": "code",
   "execution_count": 8,
   "metadata": {},
   "outputs": [],
   "source": [
    "save_path = transformed_data_path.replace(\"transformed\", \"predicted\")\n",
    "save_dir = os.path.dirname(save_path)\n",
    "\n",
    "if not os.path.exists(save_dir):\n",
    "    os.mkdir(save_dir)\n",
    "\n",
    "df_r.to_csv(save_path, index=False, sep=\";\")"
   ]
  }
 ],
 "metadata": {
  "kernelspec": {
   "display_name": "Python 3",
   "language": "python",
   "name": "python3"
  },
  "language_info": {
   "codemirror_mode": {
    "name": "ipython",
    "version": 3
   },
   "file_extension": ".py",
   "mimetype": "text/x-python",
   "name": "python",
   "nbconvert_exporter": "python",
   "pygments_lexer": "ipython3",
   "version": "3.10.13"
  }
 },
 "nbformat": 4,
 "nbformat_minor": 2
}
