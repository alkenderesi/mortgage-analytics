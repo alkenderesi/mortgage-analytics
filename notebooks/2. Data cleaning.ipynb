{
 "cells": [
  {
   "cell_type": "markdown",
   "metadata": {},
   "source": [
    "## Package imports"
   ]
  },
  {
   "cell_type": "code",
   "execution_count": 1,
   "metadata": {},
   "outputs": [],
   "source": [
    "import pandas as pd\n",
    "import matplotlib.pyplot as plt"
   ]
  },
  {
   "cell_type": "markdown",
   "metadata": {},
   "source": [
    "## Display settings"
   ]
  },
  {
   "cell_type": "code",
   "execution_count": 2,
   "metadata": {},
   "outputs": [],
   "source": [
    "pd.set_option('display.width', 140)"
   ]
  },
  {
   "cell_type": "markdown",
   "metadata": {},
   "source": [
    "## Reading in the data"
   ]
  },
  {
   "cell_type": "code",
   "execution_count": 3,
   "metadata": {},
   "outputs": [],
   "source": [
    "RETAIL = \"../data/raw/Retail data.csv\"\n",
    "POTENTIAL_CUSTOMERS = \"../data/raw/Potential Customers.csv\""
   ]
  },
  {
   "cell_type": "code",
   "execution_count": 4,
   "metadata": {},
   "outputs": [],
   "source": [
    "# This variable is used to set the path to the data file\n",
    "data_path = POTENTIAL_CUSTOMERS"
   ]
  },
  {
   "cell_type": "code",
   "execution_count": 5,
   "metadata": {},
   "outputs": [],
   "source": [
    "# Read the data file while specifying the separator and the column names, and the data types\n",
    "df = pd.read_csv(data_path, sep=\";\")"
   ]
  },
  {
   "cell_type": "markdown",
   "metadata": {},
   "source": [
    "## Cleaning the data"
   ]
  },
  {
   "cell_type": "markdown",
   "metadata": {},
   "source": [
    "### Removing redundant columns"
   ]
  },
  {
   "cell_type": "code",
   "execution_count": 6,
   "metadata": {},
   "outputs": [],
   "source": [
    "df.drop(\"Cocunut\", axis=1, inplace=True)"
   ]
  },
  {
   "cell_type": "markdown",
   "metadata": {},
   "source": [
    "### Giving some columns more descriptive names"
   ]
  },
  {
   "cell_type": "code",
   "execution_count": 7,
   "metadata": {},
   "outputs": [],
   "source": [
    "column_names = {\n",
    "    \"MARTIAL_STATUS\": \"MARITAL_STATUS\",\n",
    "    \"CUST_INCOME\": \"INCOME\",\n",
    "    \"CURRENT_ADDRESS_DATE\": \"ADDRESS_DATE\",\n",
    "    \"CURRENT_JOB_DATE\": \"JOB_DATE\",\n",
    "    \"CURRENT_WITH_BANK_DATE\": \"WITH_BANK_DATE\",\n",
    "    \"CURRENT_BALANCE_EUR\": \"BALANCE\"\n",
    "}\n",
    "\n",
    "if data_path == RETAIL:\n",
    "    column_names[\"Mortgage_YN\"] = \"MORTGAGE\"\n",
    "    column_names[\"AGE_AT_ORIGINATION\"] = \"MORTGAGE_TAKING_AGE\"\n",
    "\n",
    "df.rename(columns=column_names, inplace=True)"
   ]
  },
  {
   "cell_type": "markdown",
   "metadata": {},
   "source": [
    "### Setting correct column data types"
   ]
  },
  {
   "cell_type": "code",
   "execution_count": 8,
   "metadata": {},
   "outputs": [],
   "source": [
    "# Set categorical columns\n",
    "categorical_columns = [\n",
    "    \"MARITAL_STATUS\",\n",
    "    \"EDUCATION\",\n",
    "    \"EMPLOYMENT\",\n",
    "    \"GENDER\",\n",
    "]\n",
    "\n",
    "df[categorical_columns] = df[categorical_columns].astype(\"category\")"
   ]
  },
  {
   "cell_type": "code",
   "execution_count": 9,
   "metadata": {},
   "outputs": [],
   "source": [
    "# Set date columns while also setting invalid dates to NaT (Not a Time)\n",
    "date_columns = [\n",
    "    \"ADDRESS_DATE\",\n",
    "    \"JOB_DATE\",\n",
    "    \"WITH_BANK_DATE\",\n",
    "]\n",
    "\n",
    "df[date_columns] = df[date_columns].apply(pd.to_datetime, errors=\"coerce\")"
   ]
  },
  {
   "cell_type": "code",
   "execution_count": 10,
   "metadata": {},
   "outputs": [],
   "source": [
    "# Set monetary columns (decimal separator is comma)\n",
    "monetary_columns = [\n",
    "    \"BALANCE\",\n",
    "    \"INCOME\",\n",
    "]\n",
    "\n",
    "df[monetary_columns] = df[monetary_columns].apply(lambda x: x.str.replace(\",\", \".\").astype(float))"
   ]
  },
  {
   "cell_type": "code",
   "execution_count": 11,
   "metadata": {},
   "outputs": [],
   "source": [
    "# Also set correct data types for the retail specific columns\n",
    "if data_path == RETAIL:\n",
    "\n",
    "    # Set mortgage column type as a categorical\n",
    "    df[\"MORTGAGE\"] = df[\"MORTGAGE\"].astype(\"category\")\n",
    "\n",
    "    # Set mortgage taking age column type as nullable integer\n",
    "    df[\"MORTGAGE_TAKING_AGE\"] = df[\"MORTGAGE_TAKING_AGE\"].astype(\"Int64\")"
   ]
  },
  {
   "cell_type": "markdown",
   "metadata": {},
   "source": [
    "### Removing future dates"
   ]
  },
  {
   "cell_type": "code",
   "execution_count": 12,
   "metadata": {},
   "outputs": [],
   "source": [
    "# Setting future dates as NaT (Not a Time)\n",
    "today = pd.to_datetime(\"today\")\n",
    "\n",
    "for column in date_columns:\n",
    "    df.loc[df[column] > today, column] = pd.NaT"
   ]
  }
 ],
 "metadata": {
  "kernelspec": {
   "display_name": "Python 3",
   "language": "python",
   "name": "python3"
  },
  "language_info": {
   "codemirror_mode": {
    "name": "ipython",
    "version": 3
   },
   "file_extension": ".py",
   "mimetype": "text/x-python",
   "name": "python",
   "nbconvert_exporter": "python",
   "pygments_lexer": "ipython3",
   "version": "3.10.13"
  }
 },
 "nbformat": 4,
 "nbformat_minor": 2
}
