{
 "cells": [
  {
   "cell_type": "markdown",
   "metadata": {},
   "source": [
    "## Package imports"
   ]
  },
  {
   "cell_type": "code",
   "execution_count": 1,
   "metadata": {},
   "outputs": [],
   "source": [
    "import pandas as pd"
   ]
  },
  {
   "cell_type": "markdown",
   "metadata": {},
   "source": [
    "----\n",
    "## Display settings"
   ]
  },
  {
   "cell_type": "code",
   "execution_count": 2,
   "metadata": {},
   "outputs": [],
   "source": [
    "pd.set_option(\"display.width\", 140)"
   ]
  },
  {
   "cell_type": "markdown",
   "metadata": {},
   "source": [
    "----\n",
    "## Reading in the data"
   ]
  },
  {
   "cell_type": "code",
   "execution_count": 3,
   "metadata": {},
   "outputs": [],
   "source": [
    "dtypes = {\n",
    "    \"MORTGAGE\": \"category\",\n",
    "    \"MORTGAGE_GETTING_AGE\": \"Int64\",\n",
    "    \"AGE\": \"int64\",\n",
    "    \"YEARS_WITH_BANK\": \"int64\",\n",
    "    \"MARITAL_STATUS\": \"category\",\n",
    "    \"EDUCATION\": \"category\",\n",
    "    \"EMPLOYMENT\": \"category\",\n",
    "    \"GENDER\": \"category\",\n",
    "    \"INCOME\": \"float64\",\n",
    "    \"BALANCE\": \"float64\",\n",
    "}\n",
    "\n",
    "df = pd.read_csv(\n",
    "    \"../data/processed/clean/Retail data.csv\",\n",
    "    sep=\";\",\n",
    "    dtype=dtypes,\n",
    "    parse_dates=[\"ADDRESS_DATE\", \"JOB_DATE\", \"WITH_BANK_DATE\"],\n",
    ")"
   ]
  },
  {
   "cell_type": "code",
   "execution_count": 4,
   "metadata": {},
   "outputs": [
    {
     "name": "stdout",
     "output_type": "stream",
     "text": [
      "<class 'pandas.core.frame.DataFrame'>\n",
      "RangeIndex: 23983 entries, 0 to 23982\n",
      "Data columns (total 13 columns):\n",
      " #   Column                Non-Null Count  Dtype         \n",
      "---  ------                --------------  -----         \n",
      " 0   MORTGAGE              23983 non-null  category      \n",
      " 1   MORTGAGE_GETTING_AGE  306 non-null    Int64         \n",
      " 2   AGE                   23983 non-null  int64         \n",
      " 3   YEARS_WITH_BANK       23983 non-null  int64         \n",
      " 4   MARITAL_STATUS        23940 non-null  category      \n",
      " 5   EDUCATION             23983 non-null  category      \n",
      " 6   EMPLOYMENT            23983 non-null  category      \n",
      " 7   GENDER                23983 non-null  category      \n",
      " 8   INCOME                23983 non-null  float64       \n",
      " 9   ADDRESS_DATE          23775 non-null  datetime64[ns]\n",
      " 10  JOB_DATE              18212 non-null  datetime64[ns]\n",
      " 11  WITH_BANK_DATE        23983 non-null  datetime64[ns]\n",
      " 12  BALANCE               23983 non-null  float64       \n",
      "dtypes: Int64(1), category(5), datetime64[ns](3), float64(2), int64(2)\n",
      "memory usage: 1.6 MB\n"
     ]
    }
   ],
   "source": [
    "df.info()"
   ]
  },
  {
   "cell_type": "markdown",
   "metadata": {},
   "source": [
    "----\n",
    "## Estimating when the data was created"
   ]
  },
  {
   "cell_type": "code",
   "execution_count": 5,
   "metadata": {},
   "outputs": [],
   "source": [
    "# Temporary column for possible data creation years\n",
    "df[\"_CREATION_YEAR\"] = df[\"WITH_BANK_DATE\"].dt.year + df[\"YEARS_WITH_BANK\"]"
   ]
  },
  {
   "cell_type": "code",
   "execution_count": 6,
   "metadata": {},
   "outputs": [
    {
     "name": "stdout",
     "output_type": "stream",
     "text": [
      "2017-07-03 00:00:00\n"
     ]
    }
   ],
   "source": [
    "# Temporary value containing the year of the data creation\n",
    "_creation_year: int = df[\"_CREATION_YEAR\"].max()\n",
    "\n",
    "# Temporary date with the month and day values closest to the actual data creation\n",
    "_creation_date = pd.Timestamp(df[df[\"_CREATION_YEAR\"] == _creation_year][\"WITH_BANK_DATE\"].max())\n",
    "\n",
    "# Year and day corrections\n",
    "DATA_CREATION = _creation_date + pd.DateOffset(years=_creation_year - _creation_date.year, days=1)\n",
    "\n",
    "print(DATA_CREATION)"
   ]
  },
  {
   "cell_type": "code",
   "execution_count": 7,
   "metadata": {},
   "outputs": [],
   "source": [
    "# Remove temporary column\n",
    "df.drop(\"_CREATION_YEAR\", axis=1, inplace=True)"
   ]
  },
  {
   "cell_type": "markdown",
   "metadata": {},
   "source": [
    "----\n",
    "## Setting the data to past values for people with mortgages\n",
    "This will ensure that the data represents the life situations when people choose to get mortgages."
   ]
  },
  {
   "cell_type": "markdown",
   "metadata": {},
   "source": [
    "### Creating new column with the mortgage getting year"
   ]
  },
  {
   "cell_type": "code",
   "execution_count": 8,
   "metadata": {},
   "outputs": [],
   "source": [
    "df[\"MORTGAGE_GETTING_YEAR\"] = DATA_CREATION.year - df[\"AGE\"] + df[\"MORTGAGE_GETTING_AGE\"]"
   ]
  },
  {
   "cell_type": "code",
   "execution_count": 9,
   "metadata": {},
   "outputs": [
    {
     "data": {
      "text/plain": [
       "<IntegerArray>\n",
       "[2015, 2016, 2014, 2017, <NA>]\n",
       "Length: 5, dtype: Int64"
      ]
     },
     "execution_count": 9,
     "metadata": {},
     "output_type": "execute_result"
    }
   ],
   "source": [
    "# Unique values of the new column\n",
    "df[\"MORTGAGE_GETTING_YEAR\"].unique()"
   ]
  },
  {
   "cell_type": "code",
   "execution_count": 10,
   "metadata": {},
   "outputs": [
    {
     "data": {
      "text/html": [
       "<div>\n",
       "<style scoped>\n",
       "    .dataframe tbody tr th:only-of-type {\n",
       "        vertical-align: middle;\n",
       "    }\n",
       "\n",
       "    .dataframe tbody tr th {\n",
       "        vertical-align: top;\n",
       "    }\n",
       "\n",
       "    .dataframe thead th {\n",
       "        text-align: right;\n",
       "    }\n",
       "</style>\n",
       "<table border=\"1\" class=\"dataframe\">\n",
       "  <thead>\n",
       "    <tr style=\"text-align: right;\">\n",
       "      <th></th>\n",
       "      <th>MORTGAGE</th>\n",
       "      <th>MORTGAGE_GETTING_AGE</th>\n",
       "      <th>AGE</th>\n",
       "      <th>YEARS_WITH_BANK</th>\n",
       "      <th>MARITAL_STATUS</th>\n",
       "      <th>EDUCATION</th>\n",
       "      <th>EMPLOYMENT</th>\n",
       "      <th>GENDER</th>\n",
       "      <th>INCOME</th>\n",
       "      <th>ADDRESS_DATE</th>\n",
       "      <th>JOB_DATE</th>\n",
       "      <th>WITH_BANK_DATE</th>\n",
       "      <th>BALANCE</th>\n",
       "      <th>MORTGAGE_GETTING_YEAR</th>\n",
       "    </tr>\n",
       "  </thead>\n",
       "  <tbody>\n",
       "    <tr>\n",
       "      <th>0</th>\n",
       "      <td>Y</td>\n",
       "      <td>50</td>\n",
       "      <td>52</td>\n",
       "      <td>13</td>\n",
       "      <td>M</td>\n",
       "      <td>HGH</td>\n",
       "      <td>PVE</td>\n",
       "      <td>M</td>\n",
       "      <td>909.50</td>\n",
       "      <td>1979-04-18</td>\n",
       "      <td>2010-01-01</td>\n",
       "      <td>2004-03-16</td>\n",
       "      <td>7648.35</td>\n",
       "      <td>2015</td>\n",
       "    </tr>\n",
       "    <tr>\n",
       "      <th>1</th>\n",
       "      <td>Y</td>\n",
       "      <td>48</td>\n",
       "      <td>49</td>\n",
       "      <td>11</td>\n",
       "      <td>M</td>\n",
       "      <td>HGH</td>\n",
       "      <td>SFE</td>\n",
       "      <td>M</td>\n",
       "      <td>288.46</td>\n",
       "      <td>1999-12-16</td>\n",
       "      <td>2004-01-20</td>\n",
       "      <td>2005-11-07</td>\n",
       "      <td>30189.90</td>\n",
       "      <td>2016</td>\n",
       "    </tr>\n",
       "    <tr>\n",
       "      <th>2</th>\n",
       "      <td>Y</td>\n",
       "      <td>53</td>\n",
       "      <td>55</td>\n",
       "      <td>14</td>\n",
       "      <td>M</td>\n",
       "      <td>BCR</td>\n",
       "      <td>STE</td>\n",
       "      <td>M</td>\n",
       "      <td>1280.53</td>\n",
       "      <td>2005-06-28</td>\n",
       "      <td>1990-09-01</td>\n",
       "      <td>2003-06-25</td>\n",
       "      <td>50553.17</td>\n",
       "      <td>2015</td>\n",
       "    </tr>\n",
       "    <tr>\n",
       "      <th>3</th>\n",
       "      <td>Y</td>\n",
       "      <td>64</td>\n",
       "      <td>66</td>\n",
       "      <td>10</td>\n",
       "      <td>M</td>\n",
       "      <td>BCR</td>\n",
       "      <td>OTH</td>\n",
       "      <td>F</td>\n",
       "      <td>620.96</td>\n",
       "      <td>2000-12-22</td>\n",
       "      <td>NaT</td>\n",
       "      <td>2006-12-21</td>\n",
       "      <td>15907.28</td>\n",
       "      <td>2015</td>\n",
       "    </tr>\n",
       "    <tr>\n",
       "      <th>4</th>\n",
       "      <td>Y</td>\n",
       "      <td>46</td>\n",
       "      <td>47</td>\n",
       "      <td>9</td>\n",
       "      <td>S</td>\n",
       "      <td>MAS</td>\n",
       "      <td>PVE</td>\n",
       "      <td>F</td>\n",
       "      <td>2239.85</td>\n",
       "      <td>2009-08-01</td>\n",
       "      <td>2013-12-24</td>\n",
       "      <td>2007-08-07</td>\n",
       "      <td>27916.19</td>\n",
       "      <td>2016</td>\n",
       "    </tr>\n",
       "  </tbody>\n",
       "</table>\n",
       "</div>"
      ],
      "text/plain": [
       "  MORTGAGE  MORTGAGE_GETTING_AGE  AGE  YEARS_WITH_BANK MARITAL_STATUS EDUCATION EMPLOYMENT GENDER   INCOME ADDRESS_DATE   JOB_DATE  \\\n",
       "0        Y                    50   52               13              M       HGH        PVE      M   909.50   1979-04-18 2010-01-01   \n",
       "1        Y                    48   49               11              M       HGH        SFE      M   288.46   1999-12-16 2004-01-20   \n",
       "2        Y                    53   55               14              M       BCR        STE      M  1280.53   2005-06-28 1990-09-01   \n",
       "3        Y                    64   66               10              M       BCR        OTH      F   620.96   2000-12-22        NaT   \n",
       "4        Y                    46   47                9              S       MAS        PVE      F  2239.85   2009-08-01 2013-12-24   \n",
       "\n",
       "  WITH_BANK_DATE   BALANCE  MORTGAGE_GETTING_YEAR  \n",
       "0     2004-03-16   7648.35                   2015  \n",
       "1     2005-11-07  30189.90                   2016  \n",
       "2     2003-06-25  50553.17                   2015  \n",
       "3     2006-12-21  15907.28                   2015  \n",
       "4     2007-08-07  27916.19                   2016  "
      ]
     },
     "execution_count": 10,
     "metadata": {},
     "output_type": "execute_result"
    }
   ],
   "source": [
    "# First 5 rows\n",
    "df.head()"
   ]
  },
  {
   "cell_type": "code",
   "execution_count": 11,
   "metadata": {},
   "outputs": [],
   "source": [
    "# Save a reference to individuals with a mortgage\n",
    "mortgage_rows = df[\"MORTGAGE\"] == \"Y\""
   ]
  },
  {
   "cell_type": "markdown",
   "metadata": {},
   "source": [
    "### Inflation correction\n",
    "Source: https://www.raiffeisenzertifikate.at/en/inflation-calculator/"
   ]
  },
  {
   "cell_type": "code",
   "execution_count": 12,
   "metadata": {},
   "outputs": [],
   "source": [
    "# Multiply monetary columns by the average inflation rate of this time period\n",
    "for column in [\"INCOME\", \"BALANCE\"]:\n",
    "    df.loc[mortgage_rows, column] = (df.loc[mortgage_rows, column] * 1.0125).round(2)"
   ]
  },
  {
   "cell_type": "markdown",
   "metadata": {},
   "source": [
    "### Removing dates after getting a mortgage"
   ]
  },
  {
   "cell_type": "code",
   "execution_count": 13,
   "metadata": {},
   "outputs": [],
   "source": [
    "# Set date columns to NaT after mortgage getting year\n",
    "for column in [\"ADDRESS_DATE\", \"JOB_DATE\"]:\n",
    "    nat_rows = df[\"MORTGAGE_GETTING_YEAR\"] < df[column].dt.year\n",
    "    df.loc[nat_rows, column] = pd.NaT"
   ]
  },
  {
   "cell_type": "markdown",
   "metadata": {},
   "source": [
    "### Rolling back the age values to when people got their mortgages"
   ]
  },
  {
   "cell_type": "code",
   "execution_count": 14,
   "metadata": {},
   "outputs": [],
   "source": [
    "# Set the age of individuals with a mortgage to the age at the time of the mortgage getting\n",
    "df.loc[mortgage_rows, \"AGE\"] = df.loc[mortgage_rows, \"MORTGAGE_GETTING_AGE\"]"
   ]
  },
  {
   "cell_type": "markdown",
   "metadata": {},
   "source": [
    "### Rolling back the years with the bank too"
   ]
  },
  {
   "cell_type": "code",
   "execution_count": 15,
   "metadata": {},
   "outputs": [],
   "source": [
    "# Subtract the difference of current year and mortgage getting year from the years with bank\n",
    "df.loc[mortgage_rows, \"YEARS_WITH_BANK\"] -= DATA_CREATION.year - df.loc[mortgage_rows, \"MORTGAGE_GETTING_YEAR\"]\n",
    "\n",
    "# Set negative values to 0\n",
    "df.loc[df[\"YEARS_WITH_BANK\"] < 0, \"YEARS_WITH_BANK\"] = 0"
   ]
  },
  {
   "cell_type": "markdown",
   "metadata": {},
   "source": [
    "### Removing columns that are no longer needed"
   ]
  },
  {
   "cell_type": "code",
   "execution_count": 16,
   "metadata": {},
   "outputs": [],
   "source": [
    "# Drop mortgage getting age and mortgage getting year\n",
    "df.drop([\"MORTGAGE_GETTING_AGE\", \"MORTGAGE_GETTING_YEAR\"], axis=1, inplace=True)"
   ]
  },
  {
   "cell_type": "code",
   "execution_count": 17,
   "metadata": {},
   "outputs": [
    {
     "data": {
      "text/html": [
       "<div>\n",
       "<style scoped>\n",
       "    .dataframe tbody tr th:only-of-type {\n",
       "        vertical-align: middle;\n",
       "    }\n",
       "\n",
       "    .dataframe tbody tr th {\n",
       "        vertical-align: top;\n",
       "    }\n",
       "\n",
       "    .dataframe thead th {\n",
       "        text-align: right;\n",
       "    }\n",
       "</style>\n",
       "<table border=\"1\" class=\"dataframe\">\n",
       "  <thead>\n",
       "    <tr style=\"text-align: right;\">\n",
       "      <th></th>\n",
       "      <th>MORTGAGE</th>\n",
       "      <th>AGE</th>\n",
       "      <th>YEARS_WITH_BANK</th>\n",
       "      <th>MARITAL_STATUS</th>\n",
       "      <th>EDUCATION</th>\n",
       "      <th>EMPLOYMENT</th>\n",
       "      <th>GENDER</th>\n",
       "      <th>INCOME</th>\n",
       "      <th>ADDRESS_DATE</th>\n",
       "      <th>JOB_DATE</th>\n",
       "      <th>WITH_BANK_DATE</th>\n",
       "      <th>BALANCE</th>\n",
       "    </tr>\n",
       "  </thead>\n",
       "  <tbody>\n",
       "    <tr>\n",
       "      <th>0</th>\n",
       "      <td>Y</td>\n",
       "      <td>50</td>\n",
       "      <td>11</td>\n",
       "      <td>M</td>\n",
       "      <td>HGH</td>\n",
       "      <td>PVE</td>\n",
       "      <td>M</td>\n",
       "      <td>920.87</td>\n",
       "      <td>1979-04-18</td>\n",
       "      <td>2010-01-01</td>\n",
       "      <td>2004-03-16</td>\n",
       "      <td>7743.95</td>\n",
       "    </tr>\n",
       "    <tr>\n",
       "      <th>1</th>\n",
       "      <td>Y</td>\n",
       "      <td>48</td>\n",
       "      <td>10</td>\n",
       "      <td>M</td>\n",
       "      <td>HGH</td>\n",
       "      <td>SFE</td>\n",
       "      <td>M</td>\n",
       "      <td>292.07</td>\n",
       "      <td>1999-12-16</td>\n",
       "      <td>2004-01-20</td>\n",
       "      <td>2005-11-07</td>\n",
       "      <td>30567.27</td>\n",
       "    </tr>\n",
       "    <tr>\n",
       "      <th>2</th>\n",
       "      <td>Y</td>\n",
       "      <td>53</td>\n",
       "      <td>12</td>\n",
       "      <td>M</td>\n",
       "      <td>BCR</td>\n",
       "      <td>STE</td>\n",
       "      <td>M</td>\n",
       "      <td>1296.54</td>\n",
       "      <td>2005-06-28</td>\n",
       "      <td>1990-09-01</td>\n",
       "      <td>2003-06-25</td>\n",
       "      <td>51185.08</td>\n",
       "    </tr>\n",
       "    <tr>\n",
       "      <th>3</th>\n",
       "      <td>Y</td>\n",
       "      <td>64</td>\n",
       "      <td>8</td>\n",
       "      <td>M</td>\n",
       "      <td>BCR</td>\n",
       "      <td>OTH</td>\n",
       "      <td>F</td>\n",
       "      <td>628.72</td>\n",
       "      <td>2000-12-22</td>\n",
       "      <td>NaT</td>\n",
       "      <td>2006-12-21</td>\n",
       "      <td>16106.12</td>\n",
       "    </tr>\n",
       "    <tr>\n",
       "      <th>4</th>\n",
       "      <td>Y</td>\n",
       "      <td>46</td>\n",
       "      <td>8</td>\n",
       "      <td>S</td>\n",
       "      <td>MAS</td>\n",
       "      <td>PVE</td>\n",
       "      <td>F</td>\n",
       "      <td>2267.85</td>\n",
       "      <td>2009-08-01</td>\n",
       "      <td>2013-12-24</td>\n",
       "      <td>2007-08-07</td>\n",
       "      <td>28265.14</td>\n",
       "    </tr>\n",
       "  </tbody>\n",
       "</table>\n",
       "</div>"
      ],
      "text/plain": [
       "  MORTGAGE  AGE  YEARS_WITH_BANK MARITAL_STATUS EDUCATION EMPLOYMENT GENDER   INCOME ADDRESS_DATE   JOB_DATE WITH_BANK_DATE   BALANCE\n",
       "0        Y   50               11              M       HGH        PVE      M   920.87   1979-04-18 2010-01-01     2004-03-16   7743.95\n",
       "1        Y   48               10              M       HGH        SFE      M   292.07   1999-12-16 2004-01-20     2005-11-07  30567.27\n",
       "2        Y   53               12              M       BCR        STE      M  1296.54   2005-06-28 1990-09-01     2003-06-25  51185.08\n",
       "3        Y   64                8              M       BCR        OTH      F   628.72   2000-12-22        NaT     2006-12-21  16106.12\n",
       "4        Y   46                8              S       MAS        PVE      F  2267.85   2009-08-01 2013-12-24     2007-08-07  28265.14"
      ]
     },
     "execution_count": 17,
     "metadata": {},
     "output_type": "execute_result"
    }
   ],
   "source": [
    "# First 5 rows\n",
    "df.head()"
   ]
  },
  {
   "cell_type": "code",
   "execution_count": 18,
   "metadata": {},
   "outputs": [
    {
     "name": "stdout",
     "output_type": "stream",
     "text": [
      "<class 'pandas.core.frame.DataFrame'>\n",
      "RangeIndex: 23983 entries, 0 to 23982\n",
      "Data columns (total 12 columns):\n",
      " #   Column           Non-Null Count  Dtype         \n",
      "---  ------           --------------  -----         \n",
      " 0   MORTGAGE         23983 non-null  category      \n",
      " 1   AGE              23983 non-null  int64         \n",
      " 2   YEARS_WITH_BANK  23983 non-null  int64         \n",
      " 3   MARITAL_STATUS   23940 non-null  category      \n",
      " 4   EDUCATION        23983 non-null  category      \n",
      " 5   EMPLOYMENT       23983 non-null  category      \n",
      " 6   GENDER           23983 non-null  category      \n",
      " 7   INCOME           23983 non-null  float64       \n",
      " 8   ADDRESS_DATE     23772 non-null  datetime64[ns]\n",
      " 9   JOB_DATE         18211 non-null  datetime64[ns]\n",
      " 10  WITH_BANK_DATE   23983 non-null  datetime64[ns]\n",
      " 11  BALANCE          23983 non-null  float64       \n",
      "dtypes: category(5), datetime64[ns](3), float64(2), int64(2)\n",
      "memory usage: 1.4 MB\n"
     ]
    }
   ],
   "source": [
    "df.info()"
   ]
  }
 ],
 "metadata": {
  "kernelspec": {
   "display_name": "Python 3",
   "language": "python",
   "name": "python3"
  },
  "language_info": {
   "codemirror_mode": {
    "name": "ipython",
    "version": 3
   },
   "file_extension": ".py",
   "mimetype": "text/x-python",
   "name": "python",
   "nbconvert_exporter": "python",
   "pygments_lexer": "ipython3",
   "version": "3.10.13"
  }
 },
 "nbformat": 4,
 "nbformat_minor": 2
}
