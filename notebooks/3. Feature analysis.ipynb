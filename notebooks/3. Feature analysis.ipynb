{
 "cells": [
  {
   "cell_type": "markdown",
   "metadata": {},
   "source": [
    "## Package imports"
   ]
  },
  {
   "cell_type": "code",
   "execution_count": 1,
   "metadata": {},
   "outputs": [],
   "source": [
    "import pandas as pd"
   ]
  },
  {
   "cell_type": "markdown",
   "metadata": {},
   "source": [
    "----\n",
    "## Display settings"
   ]
  },
  {
   "cell_type": "code",
   "execution_count": 2,
   "metadata": {},
   "outputs": [],
   "source": [
    "pd.set_option(\"display.width\", 140)"
   ]
  },
  {
   "cell_type": "markdown",
   "metadata": {},
   "source": [
    "----\n",
    "## Reading in the data"
   ]
  },
  {
   "cell_type": "code",
   "execution_count": 3,
   "metadata": {},
   "outputs": [],
   "source": [
    "dtypes = {\n",
    "    \"MORTGAGE\": \"category\",\n",
    "    \"MORTGAGE_GETTING_AGE\": \"Int64\",\n",
    "    \"AGE\": \"int64\",\n",
    "    \"YEARS_WITH_BANK\": \"int64\",\n",
    "    \"MARITAL_STATUS\": \"category\",\n",
    "    \"EDUCATION\": \"category\",\n",
    "    \"EMPLOYMENT\": \"category\",\n",
    "    \"GENDER\": \"category\",\n",
    "    \"INCOME\": \"float64\",\n",
    "    \"BALANCE\": \"float64\",\n",
    "}\n",
    "\n",
    "df = pd.read_csv(\n",
    "    \"../data/processed/clean/Retail data.csv\",\n",
    "    sep=\";\",\n",
    "    dtype=dtypes,\n",
    "    parse_dates=[\"ADDRESS_DATE\", \"JOB_DATE\", \"WITH_BANK_DATE\"],\n",
    ")"
   ]
  },
  {
   "cell_type": "code",
   "execution_count": 4,
   "metadata": {},
   "outputs": [
    {
     "name": "stdout",
     "output_type": "stream",
     "text": [
      "<class 'pandas.core.frame.DataFrame'>\n",
      "RangeIndex: 23983 entries, 0 to 23982\n",
      "Data columns (total 13 columns):\n",
      " #   Column                Non-Null Count  Dtype         \n",
      "---  ------                --------------  -----         \n",
      " 0   MORTGAGE              23983 non-null  category      \n",
      " 1   MORTGAGE_GETTING_AGE  306 non-null    Int64         \n",
      " 2   AGE                   23983 non-null  int64         \n",
      " 3   YEARS_WITH_BANK       23983 non-null  int64         \n",
      " 4   MARITAL_STATUS        23940 non-null  category      \n",
      " 5   EDUCATION             23983 non-null  category      \n",
      " 6   EMPLOYMENT            23983 non-null  category      \n",
      " 7   GENDER                23983 non-null  category      \n",
      " 8   INCOME                23983 non-null  float64       \n",
      " 9   ADDRESS_DATE          23775 non-null  datetime64[ns]\n",
      " 10  JOB_DATE              18212 non-null  datetime64[ns]\n",
      " 11  WITH_BANK_DATE        23983 non-null  datetime64[ns]\n",
      " 12  BALANCE               23983 non-null  float64       \n",
      "dtypes: Int64(1), category(5), datetime64[ns](3), float64(2), int64(2)\n",
      "memory usage: 1.6 MB\n"
     ]
    }
   ],
   "source": [
    "df.info()"
   ]
  },
  {
   "cell_type": "markdown",
   "metadata": {},
   "source": [
    "----\n",
    "## Estimating when the data was created"
   ]
  },
  {
   "cell_type": "code",
   "execution_count": 5,
   "metadata": {},
   "outputs": [],
   "source": [
    "# Temporary column for possible data creation years\n",
    "df[\"_CREATION_YEAR\"] = df[\"WITH_BANK_DATE\"].dt.year + df[\"YEARS_WITH_BANK\"]"
   ]
  },
  {
   "cell_type": "code",
   "execution_count": 6,
   "metadata": {},
   "outputs": [
    {
     "name": "stdout",
     "output_type": "stream",
     "text": [
      "2017-07-03 00:00:00\n"
     ]
    }
   ],
   "source": [
    "# Temporary value containing the year of the data creation\n",
    "_creation_year: int = df[\"_CREATION_YEAR\"].max()\n",
    "\n",
    "# Temporary date with the month and day values closest to the actual data creation\n",
    "_creation_date = pd.Timestamp(df[df[\"_CREATION_YEAR\"] == _creation_year][\"WITH_BANK_DATE\"].max())\n",
    "\n",
    "# Year and day corrections\n",
    "DATA_CREATION = _creation_date + pd.DateOffset(years=_creation_year - _creation_date.year, days=1)\n",
    "\n",
    "print(DATA_CREATION)"
   ]
  },
  {
   "cell_type": "code",
   "execution_count": 7,
   "metadata": {},
   "outputs": [],
   "source": [
    "# Remove temporary column\n",
    "df.drop(\"_CREATION_YEAR\", axis=1, inplace=True)"
   ]
  }
 ],
 "metadata": {
  "kernelspec": {
   "display_name": "Python 3",
   "language": "python",
   "name": "python3"
  },
  "language_info": {
   "codemirror_mode": {
    "name": "ipython",
    "version": 3
   },
   "file_extension": ".py",
   "mimetype": "text/x-python",
   "name": "python",
   "nbconvert_exporter": "python",
   "pygments_lexer": "ipython3",
   "version": "3.10.13"
  }
 },
 "nbformat": 4,
 "nbformat_minor": 2
}
