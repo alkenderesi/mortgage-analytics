{
 "cells": [
  {
   "cell_type": "markdown",
   "metadata": {},
   "source": [
    "## Package imports & settings"
   ]
  },
  {
   "cell_type": "code",
   "execution_count": 1,
   "metadata": {},
   "outputs": [],
   "source": [
    "import os\n",
    "import pandas as pd\n",
    "from sklearn.model_selection import StratifiedShuffleSplit\n",
    "from fastai.tabular.all import *\n",
    "\n",
    "\n",
    "pd.set_option(\"display.width\", 140)"
   ]
  },
  {
   "cell_type": "markdown",
   "metadata": {},
   "source": [
    "----\n",
    "## Reading in the data"
   ]
  },
  {
   "cell_type": "code",
   "execution_count": 2,
   "metadata": {},
   "outputs": [],
   "source": [
    "data_path = \"../data/processed/transformed/Retail data.csv\"\n",
    "\n",
    "df = pd.read_csv(data_path, sep=\";\")"
   ]
  },
  {
   "cell_type": "code",
   "execution_count": 3,
   "metadata": {},
   "outputs": [
    {
     "name": "stdout",
     "output_type": "stream",
     "text": [
      "<class 'pandas.core.frame.DataFrame'>\n",
      "RangeIndex: 23983 entries, 0 to 23982\n",
      "Data columns (total 29 columns):\n",
      " #   Column                  Non-Null Count  Dtype  \n",
      "---  ------                  --------------  -----  \n",
      " 0   MORTGAGE                23983 non-null  float64\n",
      " 1   AGE                     23983 non-null  float64\n",
      " 2   YEARS_WITH_BANK         23983 non-null  float64\n",
      " 3   INCOME                  23983 non-null  float64\n",
      " 4   BALANCE                 23983 non-null  float64\n",
      " 5   ADDRESS_MISSING         23983 non-null  float64\n",
      " 6   YEARS_WITH_ADDRESS      23983 non-null  float64\n",
      " 7   JOB_MISSING             23983 non-null  float64\n",
      " 8   YEARS_WITH_JOB          23983 non-null  float64\n",
      " 9   MARITAL_STATUS_MISSING  23983 non-null  float64\n",
      " 10  MARITAL_STATUS_D        23983 non-null  float64\n",
      " 11  MARITAL_STATUS_M        23983 non-null  float64\n",
      " 12  MARITAL_STATUS_S        23983 non-null  float64\n",
      " 13  MARITAL_STATUS_W        23983 non-null  float64\n",
      " 14  EDUCATION_BCR           23983 non-null  float64\n",
      " 15  EDUCATION_HGH           23983 non-null  float64\n",
      " 16  EDUCATION_MAS           23983 non-null  float64\n",
      " 17  EDUCATION_OTH           23983 non-null  float64\n",
      " 18  EDUCATION_PHD           23983 non-null  float64\n",
      " 19  EDUCATION_PRI           23983 non-null  float64\n",
      " 20  EDUCATION_PRS           23983 non-null  float64\n",
      " 21  EDUCATION_SEC           23983 non-null  float64\n",
      " 22  EMPLOYMENT_OTH          23983 non-null  float64\n",
      " 23  EMPLOYMENT_PVE          23983 non-null  float64\n",
      " 24  EMPLOYMENT_RET          23983 non-null  float64\n",
      " 25  EMPLOYMENT_SFE          23983 non-null  float64\n",
      " 26  EMPLOYMENT_STE          23983 non-null  float64\n",
      " 27  GENDER_F                23983 non-null  float64\n",
      " 28  GENDER_M                23983 non-null  float64\n",
      "dtypes: float64(29)\n",
      "memory usage: 5.3 MB\n"
     ]
    }
   ],
   "source": [
    "df.info()"
   ]
  },
  {
   "cell_type": "markdown",
   "metadata": {},
   "source": [
    "----\n",
    "## Splitting the dataset"
   ]
  },
  {
   "cell_type": "code",
   "execution_count": 4,
   "metadata": {},
   "outputs": [],
   "source": [
    "target_column = \"MORTGAGE\"\n",
    "\n",
    "continuous_columns = [\n",
    "    \"AGE\",\n",
    "    \"YEARS_WITH_BANK\",\n",
    "    \"INCOME\",\n",
    "    \"BALANCE\",\n",
    "    \"YEARS_WITH_ADDRESS\",\n",
    "    \"YEARS_WITH_JOB\",\n",
    "]\n",
    "\n",
    "categorical_columns = [\n",
    "    \"ADDRESS_MISSING\",\n",
    "    \"JOB_MISSING\",\n",
    "    \"MARITAL_STATUS_MISSING\",\n",
    "    \"MARITAL_STATUS_D\",\n",
    "    \"MARITAL_STATUS_M\",\n",
    "    \"MARITAL_STATUS_S\",\n",
    "    \"MARITAL_STATUS_W\",\n",
    "    \"EDUCATION_BCR\",\n",
    "    \"EDUCATION_HGH\",\n",
    "    \"EDUCATION_MAS\",\n",
    "    \"EDUCATION_OTH\",\n",
    "    \"EDUCATION_PHD\",\n",
    "    \"EDUCATION_PRI\",\n",
    "    \"EDUCATION_PRS\",\n",
    "    \"EDUCATION_SEC\",\n",
    "    \"EMPLOYMENT_OTH\",\n",
    "    \"EMPLOYMENT_PVE\",\n",
    "    \"EMPLOYMENT_RET\",\n",
    "    \"EMPLOYMENT_SFE\",\n",
    "    \"EMPLOYMENT_STE\",\n",
    "    \"GENDER_F\",\n",
    "    \"GENDER_M\",\n",
    "]"
   ]
  },
  {
   "cell_type": "code",
   "execution_count": 5,
   "metadata": {},
   "outputs": [],
   "source": [
    "split = StratifiedShuffleSplit(n_splits=1, test_size=0.2, random_state=42)\n",
    "\n",
    "for train_index, test_index in split.split(df, df[target_column]):\n",
    "    splits = (list(train_index), list(test_index))"
   ]
  },
  {
   "cell_type": "markdown",
   "metadata": {},
   "source": [
    "----\n",
    "## Training the model"
   ]
  },
  {
   "cell_type": "code",
   "execution_count": 6,
   "metadata": {},
   "outputs": [],
   "source": [
    "procs = [Categorify, FillMissing, Normalize]\n",
    "\n",
    "tabular_pandas = TabularPandas(\n",
    "    df,\n",
    "    procs=procs,\n",
    "    cat_names=categorical_columns,\n",
    "    cont_names=continuous_columns, \n",
    "    y_names=target_column, \n",
    "    y_block=CategoryBlock(),\n",
    "    splits=splits,\n",
    ")\n",
    "\n",
    "dls = tabular_pandas.dataloaders(bs=64)"
   ]
  },
  {
   "cell_type": "code",
   "execution_count": 7,
   "metadata": {},
   "outputs": [
    {
     "data": {
      "text/html": [
       "\n",
       "<style>\n",
       "    /* Turns off some styling */\n",
       "    progress {\n",
       "        /* gets rid of default border in Firefox and Opera. */\n",
       "        border: none;\n",
       "        /* Needs to be in here for Safari polyfill so background images work as expected. */\n",
       "        background-size: auto;\n",
       "    }\n",
       "    progress:not([value]), progress:not([value])::-webkit-progress-bar {\n",
       "        background: repeating-linear-gradient(45deg, #7e7e7e, #7e7e7e 10px, #5c5c5c 10px, #5c5c5c 20px);\n",
       "    }\n",
       "    .progress-bar-interrupted, .progress-bar-interrupted::-webkit-progress-bar {\n",
       "        background: #F44336;\n",
       "    }\n",
       "</style>\n"
      ],
      "text/plain": [
       "<IPython.core.display.HTML object>"
      ]
     },
     "metadata": {},
     "output_type": "display_data"
    },
    {
     "data": {
      "text/html": [],
      "text/plain": [
       "<IPython.core.display.HTML object>"
      ]
     },
     "metadata": {},
     "output_type": "display_data"
    },
    {
     "data": {
      "image/png": "[encoded data removed]",
      "text/plain": [
       "<Figure size 640x480 with 1 Axes>"
      ]
     },
     "metadata": {},
     "output_type": "display_data"
    }
   ],
   "source": [
    "learn = tabular_learner(dls, metrics=accuracy)\n",
    "lr = learn.lr_find()"
   ]
  },
  {
   "cell_type": "code",
   "execution_count": 8,
   "metadata": {},
   "outputs": [
    {
     "data": {
      "text/html": [
       "\n",
       "<style>\n",
       "    /* Turns off some styling */\n",
       "    progress {\n",
       "        /* gets rid of default border in Firefox and Opera. */\n",
       "        border: none;\n",
       "        /* Needs to be in here for Safari polyfill so background images work as expected. */\n",
       "        background-size: auto;\n",
       "    }\n",
       "    progress:not([value]), progress:not([value])::-webkit-progress-bar {\n",
       "        background: repeating-linear-gradient(45deg, #7e7e7e, #7e7e7e 10px, #5c5c5c 10px, #5c5c5c 20px);\n",
       "    }\n",
       "    .progress-bar-interrupted, .progress-bar-interrupted::-webkit-progress-bar {\n",
       "        background: #F44336;\n",
       "    }\n",
       "</style>\n"
      ],
      "text/plain": [
       "<IPython.core.display.HTML object>"
      ]
     },
     "metadata": {},
     "output_type": "display_data"
    },
    {
     "data": {
      "text/html": [
       "<table border=\"1\" class=\"dataframe\">\n",
       "  <thead>\n",
       "    <tr style=\"text-align: left;\">\n",
       "      <th>epoch</th>\n",
       "      <th>train_loss</th>\n",
       "      <th>valid_loss</th>\n",
       "      <th>accuracy</th>\n",
       "      <th>time</th>\n",
       "    </tr>\n",
       "  </thead>\n",
       "  <tbody>\n",
       "    <tr>\n",
       "      <td>0</td>\n",
       "      <td>0.150044</td>\n",
       "      <td>0.042370</td>\n",
       "      <td>0.994371</td>\n",
       "      <td>00:02</td>\n",
       "    </tr>\n",
       "    <tr>\n",
       "      <td>1</td>\n",
       "      <td>0.026238</td>\n",
       "      <td>0.016479</td>\n",
       "      <td>0.994580</td>\n",
       "      <td>00:02</td>\n",
       "    </tr>\n",
       "    <tr>\n",
       "      <td>2</td>\n",
       "      <td>0.014725</td>\n",
       "      <td>0.009494</td>\n",
       "      <td>0.997498</td>\n",
       "      <td>00:02</td>\n",
       "    </tr>\n",
       "    <tr>\n",
       "      <td>3</td>\n",
       "      <td>0.016980</td>\n",
       "      <td>0.007959</td>\n",
       "      <td>0.998332</td>\n",
       "      <td>00:02</td>\n",
       "    </tr>\n",
       "    <tr>\n",
       "      <td>4</td>\n",
       "      <td>0.012614</td>\n",
       "      <td>0.007809</td>\n",
       "      <td>0.997498</td>\n",
       "      <td>00:02</td>\n",
       "    </tr>\n",
       "  </tbody>\n",
       "</table>"
      ],
      "text/plain": [
       "<IPython.core.display.HTML object>"
      ]
     },
     "metadata": {},
     "output_type": "display_data"
    }
   ],
   "source": [
    "learn.fit_one_cycle(5, lr)"
   ]
  },
  {
   "cell_type": "markdown",
   "metadata": {},
   "source": [
    "----\n",
    "## Evaluating the model"
   ]
  },
  {
   "cell_type": "code",
   "execution_count": 9,
   "metadata": {},
   "outputs": [
    {
     "data": {
      "text/html": [
       "\n",
       "<style>\n",
       "    /* Turns off some styling */\n",
       "    progress {\n",
       "        /* gets rid of default border in Firefox and Opera. */\n",
       "        border: none;\n",
       "        /* Needs to be in here for Safari polyfill so background images work as expected. */\n",
       "        background-size: auto;\n",
       "    }\n",
       "    progress:not([value]), progress:not([value])::-webkit-progress-bar {\n",
       "        background: repeating-linear-gradient(45deg, #7e7e7e, #7e7e7e 10px, #5c5c5c 10px, #5c5c5c 20px);\n",
       "    }\n",
       "    .progress-bar-interrupted, .progress-bar-interrupted::-webkit-progress-bar {\n",
       "        background: #F44336;\n",
       "    }\n",
       "</style>\n"
      ],
      "text/plain": [
       "<IPython.core.display.HTML object>"
      ]
     },
     "metadata": {},
     "output_type": "display_data"
    },
    {
     "data": {
      "text/html": [],
      "text/plain": [
       "<IPython.core.display.HTML object>"
      ]
     },
     "metadata": {},
     "output_type": "display_data"
    },
    {
     "data": {
      "text/html": [
       "\n",
       "<style>\n",
       "    /* Turns off some styling */\n",
       "    progress {\n",
       "        /* gets rid of default border in Firefox and Opera. */\n",
       "        border: none;\n",
       "        /* Needs to be in here for Safari polyfill so background images work as expected. */\n",
       "        background-size: auto;\n",
       "    }\n",
       "    progress:not([value]), progress:not([value])::-webkit-progress-bar {\n",
       "        background: repeating-linear-gradient(45deg, #7e7e7e, #7e7e7e 10px, #5c5c5c 10px, #5c5c5c 20px);\n",
       "    }\n",
       "    .progress-bar-interrupted, .progress-bar-interrupted::-webkit-progress-bar {\n",
       "        background: #F44336;\n",
       "    }\n",
       "</style>\n"
      ],
      "text/plain": [
       "<IPython.core.display.HTML object>"
      ]
     },
     "metadata": {},
     "output_type": "display_data"
    },
    {
     "data": {
      "text/html": [],
      "text/plain": [
       "<IPython.core.display.HTML object>"
      ]
     },
     "metadata": {},
     "output_type": "display_data"
    },
    {
     "data": {
      "image/png": "[encoded data removed]",
      "text/plain": [
       "<Figure size 640x480 with 1 Axes>"
      ]
     },
     "metadata": {},
     "output_type": "display_data"
    }
   ],
   "source": [
    "interp = ClassificationInterpretation.from_learner(learn)\n",
    "interp.plot_confusion_matrix()"
   ]
  },
  {
   "cell_type": "code",
   "execution_count": 10,
   "metadata": {},
   "outputs": [
    {
     "data": {
      "text/html": [
       "\n",
       "<style>\n",
       "    /* Turns off some styling */\n",
       "    progress {\n",
       "        /* gets rid of default border in Firefox and Opera. */\n",
       "        border: none;\n",
       "        /* Needs to be in here for Safari polyfill so background images work as expected. */\n",
       "        background-size: auto;\n",
       "    }\n",
       "    progress:not([value]), progress:not([value])::-webkit-progress-bar {\n",
       "        background: repeating-linear-gradient(45deg, #7e7e7e, #7e7e7e 10px, #5c5c5c 10px, #5c5c5c 20px);\n",
       "    }\n",
       "    .progress-bar-interrupted, .progress-bar-interrupted::-webkit-progress-bar {\n",
       "        background: #F44336;\n",
       "    }\n",
       "</style>\n"
      ],
      "text/plain": [
       "<IPython.core.display.HTML object>"
      ]
     },
     "metadata": {},
     "output_type": "display_data"
    },
    {
     "data": {
      "text/html": [],
      "text/plain": [
       "<IPython.core.display.HTML object>"
      ]
     },
     "metadata": {},
     "output_type": "display_data"
    },
    {
     "name": "stdout",
     "output_type": "stream",
     "text": [
      "              precision    recall  f1-score   support\n",
      "\n",
      "         0.0       1.00      1.00      1.00      4736\n",
      "         1.0       1.00      0.80      0.89        61\n",
      "\n",
      "    accuracy                           1.00      4797\n",
      "   macro avg       1.00      0.90      0.94      4797\n",
      "weighted avg       1.00      1.00      1.00      4797\n",
      "\n"
     ]
    }
   ],
   "source": [
    "# Precision, Recall, F1-score\n",
    "interp.print_classification_report()"
   ]
  },
  {
   "cell_type": "markdown",
   "metadata": {},
   "source": [
    "----\n",
    "## Saving the trained model"
   ]
  },
  {
   "cell_type": "code",
   "execution_count": 12,
   "metadata": {},
   "outputs": [],
   "source": [
    "model_path = \"../models/model.pkl\"\n",
    "\n",
    "model_dir = os.path.dirname(model_path)\n",
    "if not os.path.exists(model_dir):\n",
    "    os.mkdir(model_dir)\n",
    "\n",
    "learn.export(model_path)"
   ]
  }
 ],
 "metadata": {
  "kernelspec": {
   "display_name": "Python 3",
   "language": "python",
   "name": "python3"
  },
  "language_info": {
   "codemirror_mode": {
    "name": "ipython",
    "version": 3
   },
   "file_extension": ".py",
   "mimetype": "text/x-python",
   "name": "python",
   "nbconvert_exporter": "python",
   "pygments_lexer": "ipython3",
   "version": "3.10.13"
  }
 },
 "nbformat": 4,
 "nbformat_minor": 2
}
